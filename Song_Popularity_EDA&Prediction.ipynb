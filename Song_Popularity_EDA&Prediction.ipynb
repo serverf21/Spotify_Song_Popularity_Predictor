{
  "cells": [
    {
      "cell_type": "markdown",
      "metadata": {
        "id": "view-in-github",
        "colab_type": "text"
      },
      "source": [
        "<a href=\"https://colab.research.google.com/github/serverf21/hello-world/blob/master/EXL_assignment_SarvagyaSaxena.ipynb\" target=\"_parent\"><img src=\"https://colab.research.google.com/assets/colab-badge.svg\" alt=\"Open In Colab\"/></a>"
      ]
    },
    {
      "cell_type": "code",
      "execution_count": null,
      "metadata": {
        "id": "y3NmnflVYqQI"
      },
      "outputs": [],
      "source": [
        "import numpy as np \n",
        "import pandas as pd # for working with dataframes\n",
        "import seaborn as sns # for data visualization \n",
        "\n",
        "from matplotlib import pyplot as plt # for plotting\n",
        "%matplotlib inline\n",
        "sns.set_style(\"whitegrid\")\n",
        "\n",
        "import warnings\n",
        "warnings.filterwarnings(\"ignore\")"
      ]
    },
    {
      "cell_type": "code",
      "source": [
        "from google.colab import files\n",
        "uploaded = files.upload()"
      ],
      "metadata": {
        "colab": {
          "resources": {
            "http://localhost:8080/nbextensions/google.colab/files.js": {
              "data": "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",
              "ok": true,
              "headers": [
                [
                  "content-type",
                  "application/javascript"
                ]
              ],
              "status": 200,
              "status_text": "OK"
            }
          },
          "base_uri": "https://localhost:8080/",
          "height": 75
        },
        "id": "5-ppjqyOET6-",
        "outputId": "71853a10-f8d1-4f30-f3d9-24768dbce38b"
      },
      "execution_count": null,
      "outputs": [
        {
          "output_type": "display_data",
          "data": {
            "text/html": [
              "\n",
              "     <input type=\"file\" id=\"files-159c75d5-4ede-472e-8b15-bd9b776110a6\" name=\"files[]\" multiple disabled\n",
              "        style=\"border:none\" />\n",
              "     <output id=\"result-159c75d5-4ede-472e-8b15-bd9b776110a6\">\n",
              "      Upload widget is only available when the cell has been executed in the\n",
              "      current browser session. Please rerun this cell to enable.\n",
              "      </output>\n",
              "      <script src=\"/nbextensions/google.colab/files.js\"></script> "
            ],
            "text/plain": [
              "<IPython.core.display.HTML object>"
            ]
          },
          "metadata": {}
        },
        {
          "output_type": "stream",
          "name": "stdout",
          "text": [
            "Saving spotify_tracks_metadata.csv to spotify_tracks_metadata (4).csv\n"
          ]
        }
      ]
    },
    {
      "cell_type": "code",
      "execution_count": null,
      "metadata": {
        "id": "C57-wapTYvtC"
      },
      "outputs": [],
      "source": [
        "import io\n",
        "data=pd.read_csv(io.BytesIO(uploaded['spotify_tracks_metadata.csv']))"
      ]
    },
    {
      "cell_type": "code",
      "execution_count": null,
      "metadata": {
        "colab": {
          "base_uri": "https://localhost:8080/",
          "height": 340
        },
        "id": "J27aNAxuZLAO",
        "outputId": "b11bb16a-729f-41f2-908f-06f741ade873"
      },
      "outputs": [
        {
          "output_type": "execute_result",
          "data": {
            "text/html": [
              "\n",
              "  <div id=\"df-f8a2a4fe-2c7f-4f65-8fbb-66634b85bf9f\">\n",
              "    <div class=\"colab-df-container\">\n",
              "      <div>\n",
              "<style scoped>\n",
              "    .dataframe tbody tr th:only-of-type {\n",
              "        vertical-align: middle;\n",
              "    }\n",
              "\n",
              "    .dataframe tbody tr th {\n",
              "        vertical-align: top;\n",
              "    }\n",
              "\n",
              "    .dataframe thead th {\n",
              "        text-align: right;\n",
              "    }\n",
              "</style>\n",
              "<table border=\"1\" class=\"dataframe\">\n",
              "  <thead>\n",
              "    <tr style=\"text-align: right;\">\n",
              "      <th></th>\n",
              "      <th>Unnamed: 0</th>\n",
              "      <th>spotify_id</th>\n",
              "      <th>song_name</th>\n",
              "      <th>artist_name</th>\n",
              "      <th>song_popularity</th>\n",
              "      <th>album_release_date</th>\n",
              "      <th>album_release_year</th>\n",
              "      <th>album_release_month</th>\n",
              "      <th>acousticness</th>\n",
              "      <th>danceability</th>\n",
              "      <th>duration_ms</th>\n",
              "      <th>energy</th>\n",
              "      <th>instrumentalness</th>\n",
              "      <th>key</th>\n",
              "      <th>liveness</th>\n",
              "      <th>loudness</th>\n",
              "      <th>mode</th>\n",
              "      <th>song_explicit</th>\n",
              "      <th>speechiness</th>\n",
              "      <th>tempo</th>\n",
              "      <th>time_signature</th>\n",
              "      <th>total_available_markets</th>\n",
              "      <th>valence</th>\n",
              "    </tr>\n",
              "  </thead>\n",
              "  <tbody>\n",
              "    <tr>\n",
              "      <th>0</th>\n",
              "      <td>433759</td>\n",
              "      <td>1jnGFyaGAExn1eMEce83F9</td>\n",
              "      <td>Xweşkamın</td>\n",
              "      <td>Ömer Dayar</td>\n",
              "      <td>0</td>\n",
              "      <td>28-11-2001</td>\n",
              "      <td>2001.0</td>\n",
              "      <td>11.0</td>\n",
              "      <td>0.0401</td>\n",
              "      <td>0.661</td>\n",
              "      <td>440480</td>\n",
              "      <td>0.967</td>\n",
              "      <td>0.314000</td>\n",
              "      <td>3</td>\n",
              "      <td>0.0800</td>\n",
              "      <td>-7.608</td>\n",
              "      <td>0</td>\n",
              "      <td>False</td>\n",
              "      <td>0.0504</td>\n",
              "      <td>146.015</td>\n",
              "      <td>4</td>\n",
              "      <td>170</td>\n",
              "      <td>0.9630</td>\n",
              "    </tr>\n",
              "    <tr>\n",
              "      <th>1</th>\n",
              "      <td>433760</td>\n",
              "      <td>1TxqNnLIOhCF0WBwdYPjqw</td>\n",
              "      <td>Xwezi</td>\n",
              "      <td>Emrah Renas</td>\n",
              "      <td>0</td>\n",
              "      <td>30-05-2019</td>\n",
              "      <td>2019.0</td>\n",
              "      <td>5.0</td>\n",
              "      <td>0.7660</td>\n",
              "      <td>0.681</td>\n",
              "      <td>243508</td>\n",
              "      <td>0.463</td>\n",
              "      <td>0.000000</td>\n",
              "      <td>7</td>\n",
              "      <td>0.4930</td>\n",
              "      <td>-12.516</td>\n",
              "      <td>0</td>\n",
              "      <td>False</td>\n",
              "      <td>0.0388</td>\n",
              "      <td>115.993</td>\n",
              "      <td>5</td>\n",
              "      <td>170</td>\n",
              "      <td>0.5460</td>\n",
              "    </tr>\n",
              "    <tr>\n",
              "      <th>2</th>\n",
              "      <td>433761</td>\n",
              "      <td>3MAAgqn1g9FLuOSYXfKKY0</td>\n",
              "      <td>Xwhy</td>\n",
              "      <td>Grand Ephemeris</td>\n",
              "      <td>0</td>\n",
              "      <td>01-08-2014</td>\n",
              "      <td>2014.0</td>\n",
              "      <td>8.0</td>\n",
              "      <td>0.4710</td>\n",
              "      <td>0.374</td>\n",
              "      <td>241200</td>\n",
              "      <td>0.370</td>\n",
              "      <td>0.009470</td>\n",
              "      <td>9</td>\n",
              "      <td>0.0851</td>\n",
              "      <td>-8.295</td>\n",
              "      <td>1</td>\n",
              "      <td>False</td>\n",
              "      <td>0.0280</td>\n",
              "      <td>114.693</td>\n",
              "      <td>4</td>\n",
              "      <td>170</td>\n",
              "      <td>0.0421</td>\n",
              "    </tr>\n",
              "    <tr>\n",
              "      <th>3</th>\n",
              "      <td>433762</td>\n",
              "      <td>6xAE8mmAnvQiGApA3lSBl6</td>\n",
              "      <td>Buhar Xweşe</td>\n",
              "      <td>Koma Delal</td>\n",
              "      <td>0</td>\n",
              "      <td>04-12-2019</td>\n",
              "      <td>2019.0</td>\n",
              "      <td>12.0</td>\n",
              "      <td>0.7160</td>\n",
              "      <td>0.559</td>\n",
              "      <td>248546</td>\n",
              "      <td>0.582</td>\n",
              "      <td>0.000070</td>\n",
              "      <td>9</td>\n",
              "      <td>0.1780</td>\n",
              "      <td>-6.565</td>\n",
              "      <td>0</td>\n",
              "      <td>False</td>\n",
              "      <td>0.0630</td>\n",
              "      <td>159.975</td>\n",
              "      <td>4</td>\n",
              "      <td>170</td>\n",
              "      <td>0.8090</td>\n",
              "    </tr>\n",
              "    <tr>\n",
              "      <th>4</th>\n",
              "      <td>433763</td>\n",
              "      <td>1n9fQU25SJUawdykCNC04Y</td>\n",
              "      <td>Cendi Xweshike</td>\n",
              "      <td>Lorens Amude</td>\n",
              "      <td>0</td>\n",
              "      <td>07-03-2021</td>\n",
              "      <td>2021.0</td>\n",
              "      <td>3.0</td>\n",
              "      <td>0.0347</td>\n",
              "      <td>0.685</td>\n",
              "      <td>296571</td>\n",
              "      <td>0.612</td>\n",
              "      <td>0.000035</td>\n",
              "      <td>8</td>\n",
              "      <td>0.0858</td>\n",
              "      <td>-8.361</td>\n",
              "      <td>1</td>\n",
              "      <td>False</td>\n",
              "      <td>0.0825</td>\n",
              "      <td>140.019</td>\n",
              "      <td>4</td>\n",
              "      <td>170</td>\n",
              "      <td>0.7650</td>\n",
              "    </tr>\n",
              "  </tbody>\n",
              "</table>\n",
              "</div>\n",
              "      <button class=\"colab-df-convert\" onclick=\"convertToInteractive('df-f8a2a4fe-2c7f-4f65-8fbb-66634b85bf9f')\"\n",
              "              title=\"Convert this dataframe to an interactive table.\"\n",
              "              style=\"display:none;\">\n",
              "        \n",
              "  <svg xmlns=\"http://www.w3.org/2000/svg\" height=\"24px\"viewBox=\"0 0 24 24\"\n",
              "       width=\"24px\">\n",
              "    <path d=\"M0 0h24v24H0V0z\" fill=\"none\"/>\n",
              "    <path d=\"M18.56 5.44l.94 2.06.94-2.06 2.06-.94-2.06-.94-.94-2.06-.94 2.06-2.06.94zm-11 1L8.5 8.5l.94-2.06 2.06-.94-2.06-.94L8.5 2.5l-.94 2.06-2.06.94zm10 10l.94 2.06.94-2.06 2.06-.94-2.06-.94-.94-2.06-.94 2.06-2.06.94z\"/><path d=\"M17.41 7.96l-1.37-1.37c-.4-.4-.92-.59-1.43-.59-.52 0-1.04.2-1.43.59L10.3 9.45l-7.72 7.72c-.78.78-.78 2.05 0 2.83L4 21.41c.39.39.9.59 1.41.59.51 0 1.02-.2 1.41-.59l7.78-7.78 2.81-2.81c.8-.78.8-2.07 0-2.86zM5.41 20L4 18.59l7.72-7.72 1.47 1.35L5.41 20z\"/>\n",
              "  </svg>\n",
              "      </button>\n",
              "      \n",
              "  <style>\n",
              "    .colab-df-container {\n",
              "      display:flex;\n",
              "      flex-wrap:wrap;\n",
              "      gap: 12px;\n",
              "    }\n",
              "\n",
              "    .colab-df-convert {\n",
              "      background-color: #E8F0FE;\n",
              "      border: none;\n",
              "      border-radius: 50%;\n",
              "      cursor: pointer;\n",
              "      display: none;\n",
              "      fill: #1967D2;\n",
              "      height: 32px;\n",
              "      padding: 0 0 0 0;\n",
              "      width: 32px;\n",
              "    }\n",
              "\n",
              "    .colab-df-convert:hover {\n",
              "      background-color: #E2EBFA;\n",
              "      box-shadow: 0px 1px 2px rgba(60, 64, 67, 0.3), 0px 1px 3px 1px rgba(60, 64, 67, 0.15);\n",
              "      fill: #174EA6;\n",
              "    }\n",
              "\n",
              "    [theme=dark] .colab-df-convert {\n",
              "      background-color: #3B4455;\n",
              "      fill: #D2E3FC;\n",
              "    }\n",
              "\n",
              "    [theme=dark] .colab-df-convert:hover {\n",
              "      background-color: #434B5C;\n",
              "      box-shadow: 0px 1px 3px 1px rgba(0, 0, 0, 0.15);\n",
              "      filter: drop-shadow(0px 1px 2px rgba(0, 0, 0, 0.3));\n",
              "      fill: #FFFFFF;\n",
              "    }\n",
              "  </style>\n",
              "\n",
              "      <script>\n",
              "        const buttonEl =\n",
              "          document.querySelector('#df-f8a2a4fe-2c7f-4f65-8fbb-66634b85bf9f button.colab-df-convert');\n",
              "        buttonEl.style.display =\n",
              "          google.colab.kernel.accessAllowed ? 'block' : 'none';\n",
              "\n",
              "        async function convertToInteractive(key) {\n",
              "          const element = document.querySelector('#df-f8a2a4fe-2c7f-4f65-8fbb-66634b85bf9f');\n",
              "          const dataTable =\n",
              "            await google.colab.kernel.invokeFunction('convertToInteractive',\n",
              "                                                     [key], {});\n",
              "          if (!dataTable) return;\n",
              "\n",
              "          const docLinkHtml = 'Like what you see? Visit the ' +\n",
              "            '<a target=\"_blank\" href=https://colab.research.google.com/notebooks/data_table.ipynb>data table notebook</a>'\n",
              "            + ' to learn more about interactive tables.';\n",
              "          element.innerHTML = '';\n",
              "          dataTable['output_type'] = 'display_data';\n",
              "          await google.colab.output.renderOutput(dataTable, element);\n",
              "          const docLink = document.createElement('div');\n",
              "          docLink.innerHTML = docLinkHtml;\n",
              "          element.appendChild(docLink);\n",
              "        }\n",
              "      </script>\n",
              "    </div>\n",
              "  </div>\n",
              "  "
            ],
            "text/plain": [
              "   Unnamed: 0              spotify_id  ... total_available_markets valence\n",
              "0      433759  1jnGFyaGAExn1eMEce83F9  ...                     170  0.9630\n",
              "1      433760  1TxqNnLIOhCF0WBwdYPjqw  ...                     170  0.5460\n",
              "2      433761  3MAAgqn1g9FLuOSYXfKKY0  ...                     170  0.0421\n",
              "3      433762  6xAE8mmAnvQiGApA3lSBl6  ...                     170  0.8090\n",
              "4      433763  1n9fQU25SJUawdykCNC04Y  ...                     170  0.7650\n",
              "\n",
              "[5 rows x 23 columns]"
            ]
          },
          "metadata": {},
          "execution_count": 90
        }
      ],
      "source": [
        "data.head()"
      ]
    },
    {
      "cell_type": "code",
      "execution_count": null,
      "metadata": {
        "colab": {
          "base_uri": "https://localhost:8080/",
          "height": 364
        },
        "id": "zBQ_9JlXZhCG",
        "outputId": "d2e0fa46-da84-48ef-8bab-2d54e9d345a3"
      },
      "outputs": [
        {
          "output_type": "execute_result",
          "data": {
            "text/html": [
              "\n",
              "  <div id=\"df-2ba94b6c-c99d-436f-a86f-1a9268eaa21f\">\n",
              "    <div class=\"colab-df-container\">\n",
              "      <div>\n",
              "<style scoped>\n",
              "    .dataframe tbody tr th:only-of-type {\n",
              "        vertical-align: middle;\n",
              "    }\n",
              "\n",
              "    .dataframe tbody tr th {\n",
              "        vertical-align: top;\n",
              "    }\n",
              "\n",
              "    .dataframe thead th {\n",
              "        text-align: right;\n",
              "    }\n",
              "</style>\n",
              "<table border=\"1\" class=\"dataframe\">\n",
              "  <thead>\n",
              "    <tr style=\"text-align: right;\">\n",
              "      <th></th>\n",
              "      <th>Unnamed: 0</th>\n",
              "      <th>song_popularity</th>\n",
              "      <th>album_release_year</th>\n",
              "      <th>album_release_month</th>\n",
              "      <th>acousticness</th>\n",
              "      <th>danceability</th>\n",
              "      <th>duration_ms</th>\n",
              "      <th>energy</th>\n",
              "      <th>instrumentalness</th>\n",
              "      <th>key</th>\n",
              "      <th>liveness</th>\n",
              "      <th>loudness</th>\n",
              "      <th>mode</th>\n",
              "      <th>speechiness</th>\n",
              "      <th>tempo</th>\n",
              "      <th>time_signature</th>\n",
              "      <th>total_available_markets</th>\n",
              "      <th>valence</th>\n",
              "    </tr>\n",
              "  </thead>\n",
              "  <tbody>\n",
              "    <tr>\n",
              "      <th>count</th>\n",
              "      <td>157808.000000</td>\n",
              "      <td>157808.000000</td>\n",
              "      <td>157766.000000</td>\n",
              "      <td>155147.000000</td>\n",
              "      <td>157808.000000</td>\n",
              "      <td>157808.000000</td>\n",
              "      <td>1.578080e+05</td>\n",
              "      <td>157808.000000</td>\n",
              "      <td>157808.000000</td>\n",
              "      <td>157808.000000</td>\n",
              "      <td>157808.000000</td>\n",
              "      <td>157808.000000</td>\n",
              "      <td>157808.000000</td>\n",
              "      <td>157808.000000</td>\n",
              "      <td>157808.000000</td>\n",
              "      <td>157808.000000</td>\n",
              "      <td>157808.000000</td>\n",
              "      <td>157808.000000</td>\n",
              "    </tr>\n",
              "    <tr>\n",
              "      <th>mean</th>\n",
              "      <td>289185.445149</td>\n",
              "      <td>13.401830</td>\n",
              "      <td>2015.442656</td>\n",
              "      <td>6.040465</td>\n",
              "      <td>0.340995</td>\n",
              "      <td>0.614562</td>\n",
              "      <td>2.149388e+05</td>\n",
              "      <td>0.571874</td>\n",
              "      <td>0.219155</td>\n",
              "      <td>5.282831</td>\n",
              "      <td>0.209090</td>\n",
              "      <td>-10.475117</td>\n",
              "      <td>0.578304</td>\n",
              "      <td>0.202335</td>\n",
              "      <td>119.019872</td>\n",
              "      <td>3.865431</td>\n",
              "      <td>161.294136</td>\n",
              "      <td>0.469269</td>\n",
              "    </tr>\n",
              "    <tr>\n",
              "      <th>std</th>\n",
              "      <td>129053.133042</td>\n",
              "      <td>15.267164</td>\n",
              "      <td>19.279730</td>\n",
              "      <td>3.685797</td>\n",
              "      <td>0.325666</td>\n",
              "      <td>0.182484</td>\n",
              "      <td>1.369248e+05</td>\n",
              "      <td>0.251380</td>\n",
              "      <td>0.357009</td>\n",
              "      <td>3.626208</td>\n",
              "      <td>0.178251</td>\n",
              "      <td>5.952353</td>\n",
              "      <td>0.493832</td>\n",
              "      <td>0.261354</td>\n",
              "      <td>30.541189</td>\n",
              "      <td>0.586151</td>\n",
              "      <td>31.688559</td>\n",
              "      <td>0.255456</td>\n",
              "    </tr>\n",
              "    <tr>\n",
              "      <th>min</th>\n",
              "      <td>98815.000000</td>\n",
              "      <td>0.000000</td>\n",
              "      <td>0.000000</td>\n",
              "      <td>1.000000</td>\n",
              "      <td>0.000000</td>\n",
              "      <td>0.000000</td>\n",
              "      <td>1.864000e+03</td>\n",
              "      <td>0.000000</td>\n",
              "      <td>0.000000</td>\n",
              "      <td>0.000000</td>\n",
              "      <td>0.000000</td>\n",
              "      <td>-60.000000</td>\n",
              "      <td>0.000000</td>\n",
              "      <td>0.000000</td>\n",
              "      <td>0.000000</td>\n",
              "      <td>0.000000</td>\n",
              "      <td>0.000000</td>\n",
              "      <td>0.000000</td>\n",
              "    </tr>\n",
              "    <tr>\n",
              "      <th>25%</th>\n",
              "      <td>138266.750000</td>\n",
              "      <td>0.000000</td>\n",
              "      <td>2014.000000</td>\n",
              "      <td>3.000000</td>\n",
              "      <td>0.038300</td>\n",
              "      <td>0.511000</td>\n",
              "      <td>1.486630e+05</td>\n",
              "      <td>0.392000</td>\n",
              "      <td>0.000000</td>\n",
              "      <td>2.000000</td>\n",
              "      <td>0.098800</td>\n",
              "      <td>-13.134000</td>\n",
              "      <td>0.000000</td>\n",
              "      <td>0.042900</td>\n",
              "      <td>95.033000</td>\n",
              "      <td>4.000000</td>\n",
              "      <td>169.000000</td>\n",
              "      <td>0.266000</td>\n",
              "    </tr>\n",
              "    <tr>\n",
              "      <th>50%</th>\n",
              "      <td>360988.500000</td>\n",
              "      <td>3.000000</td>\n",
              "      <td>2019.000000</td>\n",
              "      <td>6.000000</td>\n",
              "      <td>0.235000</td>\n",
              "      <td>0.648000</td>\n",
              "      <td>1.971120e+05</td>\n",
              "      <td>0.590000</td>\n",
              "      <td>0.000048</td>\n",
              "      <td>5.000000</td>\n",
              "      <td>0.131000</td>\n",
              "      <td>-8.994000</td>\n",
              "      <td>1.000000</td>\n",
              "      <td>0.075000</td>\n",
              "      <td>120.017000</td>\n",
              "      <td>4.000000</td>\n",
              "      <td>170.000000</td>\n",
              "      <td>0.466000</td>\n",
              "    </tr>\n",
              "    <tr>\n",
              "      <th>75%</th>\n",
              "      <td>400440.250000</td>\n",
              "      <td>31.000000</td>\n",
              "      <td>2020.000000</td>\n",
              "      <td>9.000000</td>\n",
              "      <td>0.606000</td>\n",
              "      <td>0.744000</td>\n",
              "      <td>2.496682e+05</td>\n",
              "      <td>0.775000</td>\n",
              "      <td>0.421000</td>\n",
              "      <td>9.000000</td>\n",
              "      <td>0.271000</td>\n",
              "      <td>-6.350000</td>\n",
              "      <td>1.000000</td>\n",
              "      <td>0.255000</td>\n",
              "      <td>138.929250</td>\n",
              "      <td>4.000000</td>\n",
              "      <td>170.000000</td>\n",
              "      <td>0.668000</td>\n",
              "    </tr>\n",
              "    <tr>\n",
              "      <th>max</th>\n",
              "      <td>439892.000000</td>\n",
              "      <td>37.000000</td>\n",
              "      <td>2021.000000</td>\n",
              "      <td>12.000000</td>\n",
              "      <td>0.996000</td>\n",
              "      <td>0.994000</td>\n",
              "      <td>5.903468e+06</td>\n",
              "      <td>1.000000</td>\n",
              "      <td>1.000000</td>\n",
              "      <td>11.000000</td>\n",
              "      <td>1.000000</td>\n",
              "      <td>5.285000</td>\n",
              "      <td>1.000000</td>\n",
              "      <td>0.971000</td>\n",
              "      <td>248.038000</td>\n",
              "      <td>5.000000</td>\n",
              "      <td>170.000000</td>\n",
              "      <td>1.000000</td>\n",
              "    </tr>\n",
              "  </tbody>\n",
              "</table>\n",
              "</div>\n",
              "      <button class=\"colab-df-convert\" onclick=\"convertToInteractive('df-2ba94b6c-c99d-436f-a86f-1a9268eaa21f')\"\n",
              "              title=\"Convert this dataframe to an interactive table.\"\n",
              "              style=\"display:none;\">\n",
              "        \n",
              "  <svg xmlns=\"http://www.w3.org/2000/svg\" height=\"24px\"viewBox=\"0 0 24 24\"\n",
              "       width=\"24px\">\n",
              "    <path d=\"M0 0h24v24H0V0z\" fill=\"none\"/>\n",
              "    <path d=\"M18.56 5.44l.94 2.06.94-2.06 2.06-.94-2.06-.94-.94-2.06-.94 2.06-2.06.94zm-11 1L8.5 8.5l.94-2.06 2.06-.94-2.06-.94L8.5 2.5l-.94 2.06-2.06.94zm10 10l.94 2.06.94-2.06 2.06-.94-2.06-.94-.94-2.06-.94 2.06-2.06.94z\"/><path d=\"M17.41 7.96l-1.37-1.37c-.4-.4-.92-.59-1.43-.59-.52 0-1.04.2-1.43.59L10.3 9.45l-7.72 7.72c-.78.78-.78 2.05 0 2.83L4 21.41c.39.39.9.59 1.41.59.51 0 1.02-.2 1.41-.59l7.78-7.78 2.81-2.81c.8-.78.8-2.07 0-2.86zM5.41 20L4 18.59l7.72-7.72 1.47 1.35L5.41 20z\"/>\n",
              "  </svg>\n",
              "      </button>\n",
              "      \n",
              "  <style>\n",
              "    .colab-df-container {\n",
              "      display:flex;\n",
              "      flex-wrap:wrap;\n",
              "      gap: 12px;\n",
              "    }\n",
              "\n",
              "    .colab-df-convert {\n",
              "      background-color: #E8F0FE;\n",
              "      border: none;\n",
              "      border-radius: 50%;\n",
              "      cursor: pointer;\n",
              "      display: none;\n",
              "      fill: #1967D2;\n",
              "      height: 32px;\n",
              "      padding: 0 0 0 0;\n",
              "      width: 32px;\n",
              "    }\n",
              "\n",
              "    .colab-df-convert:hover {\n",
              "      background-color: #E2EBFA;\n",
              "      box-shadow: 0px 1px 2px rgba(60, 64, 67, 0.3), 0px 1px 3px 1px rgba(60, 64, 67, 0.15);\n",
              "      fill: #174EA6;\n",
              "    }\n",
              "\n",
              "    [theme=dark] .colab-df-convert {\n",
              "      background-color: #3B4455;\n",
              "      fill: #D2E3FC;\n",
              "    }\n",
              "\n",
              "    [theme=dark] .colab-df-convert:hover {\n",
              "      background-color: #434B5C;\n",
              "      box-shadow: 0px 1px 3px 1px rgba(0, 0, 0, 0.15);\n",
              "      filter: drop-shadow(0px 1px 2px rgba(0, 0, 0, 0.3));\n",
              "      fill: #FFFFFF;\n",
              "    }\n",
              "  </style>\n",
              "\n",
              "      <script>\n",
              "        const buttonEl =\n",
              "          document.querySelector('#df-2ba94b6c-c99d-436f-a86f-1a9268eaa21f button.colab-df-convert');\n",
              "        buttonEl.style.display =\n",
              "          google.colab.kernel.accessAllowed ? 'block' : 'none';\n",
              "\n",
              "        async function convertToInteractive(key) {\n",
              "          const element = document.querySelector('#df-2ba94b6c-c99d-436f-a86f-1a9268eaa21f');\n",
              "          const dataTable =\n",
              "            await google.colab.kernel.invokeFunction('convertToInteractive',\n",
              "                                                     [key], {});\n",
              "          if (!dataTable) return;\n",
              "\n",
              "          const docLinkHtml = 'Like what you see? Visit the ' +\n",
              "            '<a target=\"_blank\" href=https://colab.research.google.com/notebooks/data_table.ipynb>data table notebook</a>'\n",
              "            + ' to learn more about interactive tables.';\n",
              "          element.innerHTML = '';\n",
              "          dataTable['output_type'] = 'display_data';\n",
              "          await google.colab.output.renderOutput(dataTable, element);\n",
              "          const docLink = document.createElement('div');\n",
              "          docLink.innerHTML = docLinkHtml;\n",
              "          element.appendChild(docLink);\n",
              "        }\n",
              "      </script>\n",
              "    </div>\n",
              "  </div>\n",
              "  "
            ],
            "text/plain": [
              "          Unnamed: 0  song_popularity  ...  total_available_markets        valence\n",
              "count  157808.000000    157808.000000  ...            157808.000000  157808.000000\n",
              "mean   289185.445149        13.401830  ...               161.294136       0.469269\n",
              "std    129053.133042        15.267164  ...                31.688559       0.255456\n",
              "min     98815.000000         0.000000  ...                 0.000000       0.000000\n",
              "25%    138266.750000         0.000000  ...               169.000000       0.266000\n",
              "50%    360988.500000         3.000000  ...               170.000000       0.466000\n",
              "75%    400440.250000        31.000000  ...               170.000000       0.668000\n",
              "max    439892.000000        37.000000  ...               170.000000       1.000000\n",
              "\n",
              "[8 rows x 18 columns]"
            ]
          },
          "metadata": {},
          "execution_count": 91
        }
      ],
      "source": [
        "data.describe()"
      ]
    },
    {
      "cell_type": "code",
      "execution_count": null,
      "metadata": {
        "colab": {
          "base_uri": "https://localhost:8080/"
        },
        "id": "h0DLtBtIZs3U",
        "outputId": "78e826a3-aff1-489c-98fe-0b7f4687800c"
      },
      "outputs": [
        {
          "output_type": "stream",
          "name": "stdout",
          "text": [
            "Index(['Unnamed: 0', 'spotify_id', 'song_name', 'artist_name',\n",
            "       'song_popularity', 'album_release_date', 'album_release_year',\n",
            "       'album_release_month', 'acousticness', 'danceability', 'duration_ms',\n",
            "       'energy', 'instrumentalness', 'key', 'liveness', 'loudness', 'mode',\n",
            "       'song_explicit', 'speechiness', 'tempo', 'time_signature',\n",
            "       'total_available_markets', 'valence'],\n",
            "      dtype='object')\n"
          ]
        }
      ],
      "source": [
        "print(data.keys())"
      ]
    },
    {
      "cell_type": "code",
      "execution_count": null,
      "metadata": {
        "colab": {
          "base_uri": "https://localhost:8080/"
        },
        "id": "fx2nNjdGZ4Xp",
        "outputId": "ca0c4a3e-5596-46b0-a4e1-07fecca22bd9"
      },
      "outputs": [
        {
          "output_type": "execute_result",
          "data": {
            "text/plain": [
              "Unnamed: 0                    0\n",
              "spotify_id                    0\n",
              "song_name                     0\n",
              "artist_name                   0\n",
              "song_popularity               0\n",
              "album_release_date            0\n",
              "album_release_year           42\n",
              "album_release_month        2661\n",
              "acousticness                  0\n",
              "danceability                  0\n",
              "duration_ms                   0\n",
              "energy                        0\n",
              "instrumentalness              0\n",
              "key                           0\n",
              "liveness                      0\n",
              "loudness                      0\n",
              "mode                          0\n",
              "song_explicit                 0\n",
              "speechiness                   0\n",
              "tempo                         0\n",
              "time_signature                0\n",
              "total_available_markets       0\n",
              "valence                       0\n",
              "dtype: int64"
            ]
          },
          "metadata": {},
          "execution_count": 93
        }
      ],
      "source": [
        "#checking for null entities (if present)\n",
        "pd.isnull(data).sum()"
      ]
    },
    {
      "cell_type": "code",
      "execution_count": null,
      "metadata": {
        "colab": {
          "base_uri": "https://localhost:8080/",
          "height": 314
        },
        "id": "ux1iwAypaJ9E",
        "outputId": "33ddf2a6-cc4f-4380-e778-8361c5393c0b"
      },
      "outputs": [
        {
          "output_type": "execute_result",
          "data": {
            "text/plain": [
              "Text(0.5, 1.0, 'Song Popularity Distribution')"
            ]
          },
          "metadata": {},
          "execution_count": 94
        },
        {
          "output_type": "display_data",
          "data": {
            "image/png": "[encoded data removed]",
            "text/plain": [
              "<Figure size 432x288 with 1 Axes>"
            ]
          },
          "metadata": {}
        }
      ],
      "source": [
        "#album_release_year and album_release_month are having null values\n",
        "#We need to fill the null values while applying the predictive model\n",
        "#Let us first understand the variables having strongets correlation with \"Song Popularity\"\n",
        "sns.distplot(data['song_popularity']).set_title('Song Popularity Distribution')"
      ]
    },
    {
      "cell_type": "code",
      "execution_count": null,
      "metadata": {
        "colab": {
          "base_uri": "https://localhost:8080/",
          "height": 727
        },
        "id": "dj52c9VvcCay",
        "outputId": "75fee3b6-6017-4a7d-feb0-954487da64a5"
      },
      "outputs": [
        {
          "output_type": "execute_result",
          "data": {
            "text/html": [
              "\n",
              "  <div id=\"df-465fe865-199c-4ece-8f1c-bda592926e0c\">\n",
              "    <div class=\"colab-df-container\">\n",
              "      <div>\n",
              "<style scoped>\n",
              "    .dataframe tbody tr th:only-of-type {\n",
              "        vertical-align: middle;\n",
              "    }\n",
              "\n",
              "    .dataframe tbody tr th {\n",
              "        vertical-align: top;\n",
              "    }\n",
              "\n",
              "    .dataframe thead th {\n",
              "        text-align: right;\n",
              "    }\n",
              "</style>\n",
              "<table border=\"1\" class=\"dataframe\">\n",
              "  <thead>\n",
              "    <tr style=\"text-align: right;\">\n",
              "      <th></th>\n",
              "      <th>Unnamed: 0</th>\n",
              "      <th>song_popularity</th>\n",
              "      <th>album_release_year</th>\n",
              "      <th>album_release_month</th>\n",
              "      <th>acousticness</th>\n",
              "      <th>danceability</th>\n",
              "      <th>duration_ms</th>\n",
              "      <th>energy</th>\n",
              "      <th>instrumentalness</th>\n",
              "      <th>key</th>\n",
              "      <th>liveness</th>\n",
              "      <th>loudness</th>\n",
              "      <th>mode</th>\n",
              "      <th>song_explicit</th>\n",
              "      <th>speechiness</th>\n",
              "      <th>tempo</th>\n",
              "      <th>time_signature</th>\n",
              "      <th>total_available_markets</th>\n",
              "      <th>valence</th>\n",
              "    </tr>\n",
              "  </thead>\n",
              "  <tbody>\n",
              "    <tr>\n",
              "      <th>Unnamed: 0</th>\n",
              "      <td>1.000000</td>\n",
              "      <td>-0.993879</td>\n",
              "      <td>0.058859</td>\n",
              "      <td>-0.042988</td>\n",
              "      <td>0.035067</td>\n",
              "      <td>-0.006304</td>\n",
              "      <td>0.056851</td>\n",
              "      <td>-0.105593</td>\n",
              "      <td>0.096422</td>\n",
              "      <td>0.003326</td>\n",
              "      <td>-0.074871</td>\n",
              "      <td>-0.123303</td>\n",
              "      <td>0.024154</td>\n",
              "      <td>0.059326</td>\n",
              "      <td>0.021386</td>\n",
              "      <td>0.010736</td>\n",
              "      <td>-0.026358</td>\n",
              "      <td>0.095458</td>\n",
              "      <td>-0.043490</td>\n",
              "    </tr>\n",
              "    <tr>\n",
              "      <th>song_popularity</th>\n",
              "      <td>-0.993879</td>\n",
              "      <td>1.000000</td>\n",
              "      <td>-0.057667</td>\n",
              "      <td>0.041391</td>\n",
              "      <td>-0.040109</td>\n",
              "      <td>0.008050</td>\n",
              "      <td>-0.056271</td>\n",
              "      <td>0.108319</td>\n",
              "      <td>-0.093077</td>\n",
              "      <td>-0.003347</td>\n",
              "      <td>0.072868</td>\n",
              "      <td>0.126644</td>\n",
              "      <td>-0.024986</td>\n",
              "      <td>-0.054639</td>\n",
              "      <td>-0.025748</td>\n",
              "      <td>-0.009358</td>\n",
              "      <td>0.028938</td>\n",
              "      <td>-0.090324</td>\n",
              "      <td>0.040034</td>\n",
              "    </tr>\n",
              "    <tr>\n",
              "      <th>album_release_year</th>\n",
              "      <td>0.058859</td>\n",
              "      <td>-0.057667</td>\n",
              "      <td>1.000000</td>\n",
              "      <td>0.008240</td>\n",
              "      <td>-0.049215</td>\n",
              "      <td>0.056307</td>\n",
              "      <td>-0.034344</td>\n",
              "      <td>0.011626</td>\n",
              "      <td>0.015205</td>\n",
              "      <td>0.001757</td>\n",
              "      <td>-0.038342</td>\n",
              "      <td>0.014333</td>\n",
              "      <td>-0.018549</td>\n",
              "      <td>0.078290</td>\n",
              "      <td>0.010691</td>\n",
              "      <td>0.014559</td>\n",
              "      <td>0.017708</td>\n",
              "      <td>0.027183</td>\n",
              "      <td>-0.034865</td>\n",
              "    </tr>\n",
              "    <tr>\n",
              "      <th>album_release_month</th>\n",
              "      <td>-0.042988</td>\n",
              "      <td>0.041391</td>\n",
              "      <td>0.008240</td>\n",
              "      <td>1.000000</td>\n",
              "      <td>-0.052524</td>\n",
              "      <td>0.028345</td>\n",
              "      <td>0.005718</td>\n",
              "      <td>0.058046</td>\n",
              "      <td>0.012714</td>\n",
              "      <td>0.001942</td>\n",
              "      <td>-0.013882</td>\n",
              "      <td>0.062719</td>\n",
              "      <td>-0.009639</td>\n",
              "      <td>0.058060</td>\n",
              "      <td>-0.052767</td>\n",
              "      <td>0.011179</td>\n",
              "      <td>0.015946</td>\n",
              "      <td>0.071342</td>\n",
              "      <td>-0.012974</td>\n",
              "    </tr>\n",
              "    <tr>\n",
              "      <th>acousticness</th>\n",
              "      <td>0.035067</td>\n",
              "      <td>-0.040109</td>\n",
              "      <td>-0.049215</td>\n",
              "      <td>-0.052524</td>\n",
              "      <td>1.000000</td>\n",
              "      <td>-0.292130</td>\n",
              "      <td>-0.068553</td>\n",
              "      <td>-0.611744</td>\n",
              "      <td>0.081177</td>\n",
              "      <td>-0.019684</td>\n",
              "      <td>0.009158</td>\n",
              "      <td>-0.497477</td>\n",
              "      <td>0.029383</td>\n",
              "      <td>-0.158056</td>\n",
              "      <td>0.118664</td>\n",
              "      <td>-0.198371</td>\n",
              "      <td>-0.147619</td>\n",
              "      <td>-0.068571</td>\n",
              "      <td>-0.100938</td>\n",
              "    </tr>\n",
              "    <tr>\n",
              "      <th>danceability</th>\n",
              "      <td>-0.006304</td>\n",
              "      <td>0.008050</td>\n",
              "      <td>0.056307</td>\n",
              "      <td>0.028345</td>\n",
              "      <td>-0.292130</td>\n",
              "      <td>1.000000</td>\n",
              "      <td>-0.092995</td>\n",
              "      <td>0.168398</td>\n",
              "      <td>-0.231934</td>\n",
              "      <td>0.021799</td>\n",
              "      <td>-0.121052</td>\n",
              "      <td>0.268833</td>\n",
              "      <td>-0.042216</td>\n",
              "      <td>0.254669</td>\n",
              "      <td>0.210696</td>\n",
              "      <td>0.063769</td>\n",
              "      <td>0.194526</td>\n",
              "      <td>0.031806</td>\n",
              "      <td>0.400045</td>\n",
              "    </tr>\n",
              "    <tr>\n",
              "      <th>duration_ms</th>\n",
              "      <td>0.056851</td>\n",
              "      <td>-0.056271</td>\n",
              "      <td>-0.034344</td>\n",
              "      <td>0.005718</td>\n",
              "      <td>-0.068553</td>\n",
              "      <td>-0.092995</td>\n",
              "      <td>1.000000</td>\n",
              "      <td>0.091776</td>\n",
              "      <td>0.126486</td>\n",
              "      <td>0.008141</td>\n",
              "      <td>-0.042169</td>\n",
              "      <td>0.067052</td>\n",
              "      <td>-0.015363</td>\n",
              "      <td>-0.115785</td>\n",
              "      <td>-0.197237</td>\n",
              "      <td>0.045866</td>\n",
              "      <td>0.061866</td>\n",
              "      <td>0.031957</td>\n",
              "      <td>-0.095643</td>\n",
              "    </tr>\n",
              "    <tr>\n",
              "      <th>energy</th>\n",
              "      <td>-0.105593</td>\n",
              "      <td>0.108319</td>\n",
              "      <td>0.011626</td>\n",
              "      <td>0.058046</td>\n",
              "      <td>-0.611744</td>\n",
              "      <td>0.168398</td>\n",
              "      <td>0.091776</td>\n",
              "      <td>1.000000</td>\n",
              "      <td>-0.150311</td>\n",
              "      <td>0.034735</td>\n",
              "      <td>0.149831</td>\n",
              "      <td>0.771650</td>\n",
              "      <td>-0.038656</td>\n",
              "      <td>0.074868</td>\n",
              "      <td>-0.173437</td>\n",
              "      <td>0.201319</td>\n",
              "      <td>0.162953</td>\n",
              "      <td>0.000595</td>\n",
              "      <td>0.275457</td>\n",
              "    </tr>\n",
              "    <tr>\n",
              "      <th>instrumentalness</th>\n",
              "      <td>0.096422</td>\n",
              "      <td>-0.093077</td>\n",
              "      <td>0.015205</td>\n",
              "      <td>0.012714</td>\n",
              "      <td>0.081177</td>\n",
              "      <td>-0.231934</td>\n",
              "      <td>0.126486</td>\n",
              "      <td>-0.150311</td>\n",
              "      <td>1.000000</td>\n",
              "      <td>-0.011027</td>\n",
              "      <td>-0.123432</td>\n",
              "      <td>-0.324421</td>\n",
              "      <td>0.006174</td>\n",
              "      <td>-0.266439</td>\n",
              "      <td>-0.298653</td>\n",
              "      <td>0.008749</td>\n",
              "      <td>-0.031428</td>\n",
              "      <td>0.077772</td>\n",
              "      <td>-0.280884</td>\n",
              "    </tr>\n",
              "    <tr>\n",
              "      <th>key</th>\n",
              "      <td>0.003326</td>\n",
              "      <td>-0.003347</td>\n",
              "      <td>0.001757</td>\n",
              "      <td>0.001942</td>\n",
              "      <td>-0.019684</td>\n",
              "      <td>0.021799</td>\n",
              "      <td>0.008141</td>\n",
              "      <td>0.034735</td>\n",
              "      <td>-0.011027</td>\n",
              "      <td>1.000000</td>\n",
              "      <td>0.003365</td>\n",
              "      <td>0.020699</td>\n",
              "      <td>-0.213915</td>\n",
              "      <td>-0.000735</td>\n",
              "      <td>0.018703</td>\n",
              "      <td>0.000706</td>\n",
              "      <td>0.006214</td>\n",
              "      <td>0.007860</td>\n",
              "      <td>0.030959</td>\n",
              "    </tr>\n",
              "    <tr>\n",
              "      <th>liveness</th>\n",
              "      <td>-0.074871</td>\n",
              "      <td>0.072868</td>\n",
              "      <td>-0.038342</td>\n",
              "      <td>-0.013882</td>\n",
              "      <td>0.009158</td>\n",
              "      <td>-0.121052</td>\n",
              "      <td>-0.042169</td>\n",
              "      <td>0.149831</td>\n",
              "      <td>-0.123432</td>\n",
              "      <td>0.003365</td>\n",
              "      <td>1.000000</td>\n",
              "      <td>0.033289</td>\n",
              "      <td>0.030321</td>\n",
              "      <td>-0.060927</td>\n",
              "      <td>0.229307</td>\n",
              "      <td>-0.047443</td>\n",
              "      <td>-0.044017</td>\n",
              "      <td>-0.118620</td>\n",
              "      <td>0.048292</td>\n",
              "    </tr>\n",
              "    <tr>\n",
              "      <th>loudness</th>\n",
              "      <td>-0.123303</td>\n",
              "      <td>0.126644</td>\n",
              "      <td>0.014333</td>\n",
              "      <td>0.062719</td>\n",
              "      <td>-0.497477</td>\n",
              "      <td>0.268833</td>\n",
              "      <td>0.067052</td>\n",
              "      <td>0.771650</td>\n",
              "      <td>-0.324421</td>\n",
              "      <td>0.020699</td>\n",
              "      <td>0.033289</td>\n",
              "      <td>1.000000</td>\n",
              "      <td>-0.031197</td>\n",
              "      <td>0.148414</td>\n",
              "      <td>-0.198989</td>\n",
              "      <td>0.184130</td>\n",
              "      <td>0.171682</td>\n",
              "      <td>0.013534</td>\n",
              "      <td>0.276949</td>\n",
              "    </tr>\n",
              "    <tr>\n",
              "      <th>mode</th>\n",
              "      <td>0.024154</td>\n",
              "      <td>-0.024986</td>\n",
              "      <td>-0.018549</td>\n",
              "      <td>-0.009639</td>\n",
              "      <td>0.029383</td>\n",
              "      <td>-0.042216</td>\n",
              "      <td>-0.015363</td>\n",
              "      <td>-0.038656</td>\n",
              "      <td>0.006174</td>\n",
              "      <td>-0.213915</td>\n",
              "      <td>0.030321</td>\n",
              "      <td>-0.031197</td>\n",
              "      <td>1.000000</td>\n",
              "      <td>-0.032341</td>\n",
              "      <td>0.020184</td>\n",
              "      <td>-0.011760</td>\n",
              "      <td>-0.026580</td>\n",
              "      <td>-0.029253</td>\n",
              "      <td>-0.004654</td>\n",
              "    </tr>\n",
              "    <tr>\n",
              "      <th>song_explicit</th>\n",
              "      <td>0.059326</td>\n",
              "      <td>-0.054639</td>\n",
              "      <td>0.078290</td>\n",
              "      <td>0.058060</td>\n",
              "      <td>-0.158056</td>\n",
              "      <td>0.254669</td>\n",
              "      <td>-0.115785</td>\n",
              "      <td>0.074868</td>\n",
              "      <td>-0.266439</td>\n",
              "      <td>-0.000735</td>\n",
              "      <td>-0.060927</td>\n",
              "      <td>0.148414</td>\n",
              "      <td>-0.032341</td>\n",
              "      <td>1.000000</td>\n",
              "      <td>0.078210</td>\n",
              "      <td>0.041060</td>\n",
              "      <td>0.096866</td>\n",
              "      <td>0.104952</td>\n",
              "      <td>-0.009428</td>\n",
              "    </tr>\n",
              "    <tr>\n",
              "      <th>speechiness</th>\n",
              "      <td>0.021386</td>\n",
              "      <td>-0.025748</td>\n",
              "      <td>0.010691</td>\n",
              "      <td>-0.052767</td>\n",
              "      <td>0.118664</td>\n",
              "      <td>0.210696</td>\n",
              "      <td>-0.197237</td>\n",
              "      <td>-0.173437</td>\n",
              "      <td>-0.298653</td>\n",
              "      <td>0.018703</td>\n",
              "      <td>0.229307</td>\n",
              "      <td>-0.198989</td>\n",
              "      <td>0.020184</td>\n",
              "      <td>0.078210</td>\n",
              "      <td>1.000000</td>\n",
              "      <td>-0.113117</td>\n",
              "      <td>-0.116539</td>\n",
              "      <td>-0.144149</td>\n",
              "      <td>0.122246</td>\n",
              "    </tr>\n",
              "    <tr>\n",
              "      <th>tempo</th>\n",
              "      <td>0.010736</td>\n",
              "      <td>-0.009358</td>\n",
              "      <td>0.014559</td>\n",
              "      <td>0.011179</td>\n",
              "      <td>-0.198371</td>\n",
              "      <td>0.063769</td>\n",
              "      <td>0.045866</td>\n",
              "      <td>0.201319</td>\n",
              "      <td>0.008749</td>\n",
              "      <td>0.000706</td>\n",
              "      <td>-0.047443</td>\n",
              "      <td>0.184130</td>\n",
              "      <td>-0.011760</td>\n",
              "      <td>0.041060</td>\n",
              "      <td>-0.113117</td>\n",
              "      <td>1.000000</td>\n",
              "      <td>0.132589</td>\n",
              "      <td>0.050723</td>\n",
              "      <td>0.075686</td>\n",
              "    </tr>\n",
              "    <tr>\n",
              "      <th>time_signature</th>\n",
              "      <td>-0.026358</td>\n",
              "      <td>0.028938</td>\n",
              "      <td>0.017708</td>\n",
              "      <td>0.015946</td>\n",
              "      <td>-0.147619</td>\n",
              "      <td>0.194526</td>\n",
              "      <td>0.061866</td>\n",
              "      <td>0.162953</td>\n",
              "      <td>-0.031428</td>\n",
              "      <td>0.006214</td>\n",
              "      <td>-0.044017</td>\n",
              "      <td>0.171682</td>\n",
              "      <td>-0.026580</td>\n",
              "      <td>0.096866</td>\n",
              "      <td>-0.116539</td>\n",
              "      <td>0.132589</td>\n",
              "      <td>1.000000</td>\n",
              "      <td>0.040216</td>\n",
              "      <td>0.076146</td>\n",
              "    </tr>\n",
              "    <tr>\n",
              "      <th>total_available_markets</th>\n",
              "      <td>0.095458</td>\n",
              "      <td>-0.090324</td>\n",
              "      <td>0.027183</td>\n",
              "      <td>0.071342</td>\n",
              "      <td>-0.068571</td>\n",
              "      <td>0.031806</td>\n",
              "      <td>0.031957</td>\n",
              "      <td>0.000595</td>\n",
              "      <td>0.077772</td>\n",
              "      <td>0.007860</td>\n",
              "      <td>-0.118620</td>\n",
              "      <td>0.013534</td>\n",
              "      <td>-0.029253</td>\n",
              "      <td>0.104952</td>\n",
              "      <td>-0.144149</td>\n",
              "      <td>0.050723</td>\n",
              "      <td>0.040216</td>\n",
              "      <td>1.000000</td>\n",
              "      <td>-0.068056</td>\n",
              "    </tr>\n",
              "    <tr>\n",
              "      <th>valence</th>\n",
              "      <td>-0.043490</td>\n",
              "      <td>0.040034</td>\n",
              "      <td>-0.034865</td>\n",
              "      <td>-0.012974</td>\n",
              "      <td>-0.100938</td>\n",
              "      <td>0.400045</td>\n",
              "      <td>-0.095643</td>\n",
              "      <td>0.275457</td>\n",
              "      <td>-0.280884</td>\n",
              "      <td>0.030959</td>\n",
              "      <td>0.048292</td>\n",
              "      <td>0.276949</td>\n",
              "      <td>-0.004654</td>\n",
              "      <td>-0.009428</td>\n",
              "      <td>0.122246</td>\n",
              "      <td>0.075686</td>\n",
              "      <td>0.076146</td>\n",
              "      <td>-0.068056</td>\n",
              "      <td>1.000000</td>\n",
              "    </tr>\n",
              "  </tbody>\n",
              "</table>\n",
              "</div>\n",
              "      <button class=\"colab-df-convert\" onclick=\"convertToInteractive('df-465fe865-199c-4ece-8f1c-bda592926e0c')\"\n",
              "              title=\"Convert this dataframe to an interactive table.\"\n",
              "              style=\"display:none;\">\n",
              "        \n",
              "  <svg xmlns=\"http://www.w3.org/2000/svg\" height=\"24px\"viewBox=\"0 0 24 24\"\n",
              "       width=\"24px\">\n",
              "    <path d=\"M0 0h24v24H0V0z\" fill=\"none\"/>\n",
              "    <path d=\"M18.56 5.44l.94 2.06.94-2.06 2.06-.94-2.06-.94-.94-2.06-.94 2.06-2.06.94zm-11 1L8.5 8.5l.94-2.06 2.06-.94-2.06-.94L8.5 2.5l-.94 2.06-2.06.94zm10 10l.94 2.06.94-2.06 2.06-.94-2.06-.94-.94-2.06-.94 2.06-2.06.94z\"/><path d=\"M17.41 7.96l-1.37-1.37c-.4-.4-.92-.59-1.43-.59-.52 0-1.04.2-1.43.59L10.3 9.45l-7.72 7.72c-.78.78-.78 2.05 0 2.83L4 21.41c.39.39.9.59 1.41.59.51 0 1.02-.2 1.41-.59l7.78-7.78 2.81-2.81c.8-.78.8-2.07 0-2.86zM5.41 20L4 18.59l7.72-7.72 1.47 1.35L5.41 20z\"/>\n",
              "  </svg>\n",
              "      </button>\n",
              "      \n",
              "  <style>\n",
              "    .colab-df-container {\n",
              "      display:flex;\n",
              "      flex-wrap:wrap;\n",
              "      gap: 12px;\n",
              "    }\n",
              "\n",
              "    .colab-df-convert {\n",
              "      background-color: #E8F0FE;\n",
              "      border: none;\n",
              "      border-radius: 50%;\n",
              "      cursor: pointer;\n",
              "      display: none;\n",
              "      fill: #1967D2;\n",
              "      height: 32px;\n",
              "      padding: 0 0 0 0;\n",
              "      width: 32px;\n",
              "    }\n",
              "\n",
              "    .colab-df-convert:hover {\n",
              "      background-color: #E2EBFA;\n",
              "      box-shadow: 0px 1px 2px rgba(60, 64, 67, 0.3), 0px 1px 3px 1px rgba(60, 64, 67, 0.15);\n",
              "      fill: #174EA6;\n",
              "    }\n",
              "\n",
              "    [theme=dark] .colab-df-convert {\n",
              "      background-color: #3B4455;\n",
              "      fill: #D2E3FC;\n",
              "    }\n",
              "\n",
              "    [theme=dark] .colab-df-convert:hover {\n",
              "      background-color: #434B5C;\n",
              "      box-shadow: 0px 1px 3px 1px rgba(0, 0, 0, 0.15);\n",
              "      filter: drop-shadow(0px 1px 2px rgba(0, 0, 0, 0.3));\n",
              "      fill: #FFFFFF;\n",
              "    }\n",
              "  </style>\n",
              "\n",
              "      <script>\n",
              "        const buttonEl =\n",
              "          document.querySelector('#df-465fe865-199c-4ece-8f1c-bda592926e0c button.colab-df-convert');\n",
              "        buttonEl.style.display =\n",
              "          google.colab.kernel.accessAllowed ? 'block' : 'none';\n",
              "\n",
              "        async function convertToInteractive(key) {\n",
              "          const element = document.querySelector('#df-465fe865-199c-4ece-8f1c-bda592926e0c');\n",
              "          const dataTable =\n",
              "            await google.colab.kernel.invokeFunction('convertToInteractive',\n",
              "                                                     [key], {});\n",
              "          if (!dataTable) return;\n",
              "\n",
              "          const docLinkHtml = 'Like what you see? Visit the ' +\n",
              "            '<a target=\"_blank\" href=https://colab.research.google.com/notebooks/data_table.ipynb>data table notebook</a>'\n",
              "            + ' to learn more about interactive tables.';\n",
              "          element.innerHTML = '';\n",
              "          dataTable['output_type'] = 'display_data';\n",
              "          await google.colab.output.renderOutput(dataTable, element);\n",
              "          const docLink = document.createElement('div');\n",
              "          docLink.innerHTML = docLinkHtml;\n",
              "          element.appendChild(docLink);\n",
              "        }\n",
              "      </script>\n",
              "    </div>\n",
              "  </div>\n",
              "  "
            ],
            "text/plain": [
              "                         Unnamed: 0  ...   valence\n",
              "Unnamed: 0                 1.000000  ... -0.043490\n",
              "song_popularity           -0.993879  ...  0.040034\n",
              "album_release_year         0.058859  ... -0.034865\n",
              "album_release_month       -0.042988  ... -0.012974\n",
              "acousticness               0.035067  ... -0.100938\n",
              "danceability              -0.006304  ...  0.400045\n",
              "duration_ms                0.056851  ... -0.095643\n",
              "energy                    -0.105593  ...  0.275457\n",
              "instrumentalness           0.096422  ... -0.280884\n",
              "key                        0.003326  ...  0.030959\n",
              "liveness                  -0.074871  ...  0.048292\n",
              "loudness                  -0.123303  ...  0.276949\n",
              "mode                       0.024154  ... -0.004654\n",
              "song_explicit              0.059326  ... -0.009428\n",
              "speechiness                0.021386  ...  0.122246\n",
              "tempo                      0.010736  ...  0.075686\n",
              "time_signature            -0.026358  ...  0.076146\n",
              "total_available_markets    0.095458  ... -0.068056\n",
              "valence                   -0.043490  ...  1.000000\n",
              "\n",
              "[19 rows x 19 columns]"
            ]
          },
          "metadata": {},
          "execution_count": 95
        }
      ],
      "source": [
        "data.corr()"
      ]
    },
    {
      "cell_type": "code",
      "execution_count": null,
      "metadata": {
        "colab": {
          "base_uri": "https://localhost:8080/",
          "height": 314
        },
        "id": "HiS9lfgucgHk",
        "outputId": "eefb3e56-cbf6-4b39-e4a6-597653e785ff"
      },
      "outputs": [
        {
          "output_type": "execute_result",
          "data": {
            "text/plain": [
              "Text(0.5, 1.0, 'Popularity Based on Time Signature')"
            ]
          },
          "metadata": {},
          "execution_count": 96
        },
        {
          "output_type": "display_data",
          "data": {
            "image/png": "[encoded data removed]",
            "text/plain": [
              "<Figure size 432x288 with 1 Axes>"
            ]
          },
          "metadata": {}
        }
      ],
      "source": [
        "#Let us check the correlation of song_popularity with different independent variables\n",
        "# No1: song_popularity vs time_signature\n",
        "sns.barplot(x = 'time_signature', y = 'song_popularity', data = data)\n",
        "plt.title('Popularity Based on Time Signature')"
      ]
    },
    {
      "cell_type": "code",
      "execution_count": null,
      "metadata": {
        "colab": {
          "base_uri": "https://localhost:8080/",
          "height": 313
        },
        "id": "rZZXGM9OdQUy",
        "outputId": "ffe2ef12-6137-4e45-e55d-12bd091fd5f2"
      },
      "outputs": [
        {
          "output_type": "execute_result",
          "data": {
            "text/plain": [
              "Text(0.5, 1.0, 'Popularity Based on Key')"
            ]
          },
          "metadata": {},
          "execution_count": 97
        },
        {
          "output_type": "display_data",
          "data": {
            "image/png": "[encoded data removed]",
            "text/plain": [
              "<Figure size 432x288 with 1 Axes>"
            ]
          },
          "metadata": {}
        }
      ],
      "source": [
        "#No2: key\n",
        "sns.barplot(x = 'key', y = 'song_popularity', data = data)\n",
        "plt.title('Popularity Based on Key')"
      ]
    },
    {
      "cell_type": "code",
      "execution_count": null,
      "metadata": {
        "colab": {
          "base_uri": "https://localhost:8080/",
          "height": 313
        },
        "id": "f4C_v6dDdgR-",
        "outputId": "5241479d-f91a-4ecf-d16e-19db2730a667"
      },
      "outputs": [
        {
          "output_type": "execute_result",
          "data": {
            "text/plain": [
              "Text(0.5, 1.0, 'Popularity Based on Mode')"
            ]
          },
          "metadata": {},
          "execution_count": 98
        },
        {
          "output_type": "display_data",
          "data": {
            "image/png": "[encoded data removed]",
            "text/plain": [
              "<Figure size 432x288 with 1 Axes>"
            ]
          },
          "metadata": {}
        }
      ],
      "source": [
        "\n",
        "#No3: Mode\n",
        "sns.barplot(x = 'mode', y = 'song_popularity', data = data)\n",
        "plt.title('Popularity Based on Mode')"
      ]
    },
    {
      "cell_type": "code",
      "execution_count": null,
      "metadata": {
        "colab": {
          "base_uri": "https://localhost:8080/",
          "height": 313
        },
        "id": "-A502GXWd7j6",
        "outputId": "6b88ad3a-f6da-46e9-9a5a-76f9d41f77ec"
      },
      "outputs": [
        {
          "output_type": "execute_result",
          "data": {
            "text/plain": [
              "Text(0.5, 1.0, 'Popularity Based on Mode and Key')"
            ]
          },
          "metadata": {},
          "execution_count": 99
        },
        {
          "output_type": "display_data",
          "data": {
            "image/png": "[encoded data removed]",
            "text/plain": [
              "<Figure size 432x288 with 1 Axes>"
            ]
          },
          "metadata": {}
        }
      ],
      "source": [
        "#Popularity at mode 0 is slightly higher than 1\n",
        "#Since mode and key of a song are related, we should check the impact of mode+key on song popularity\n",
        "#No4: Key+Mode\n",
        "sns.barplot(x = 'mode', y = 'song_popularity', hue = 'key', data = data)\n",
        "plt.title('Popularity Based on Mode and Key')"
      ]
    },
    {
      "cell_type": "code",
      "execution_count": null,
      "metadata": {
        "colab": {
          "base_uri": "https://localhost:8080/",
          "height": 459
        },
        "id": "0w8F9b0oe35y",
        "outputId": "50c4773b-5f09-4b1b-a979-37c99decf5ea"
      },
      "outputs": [
        {
          "output_type": "execute_result",
          "data": {
            "text/plain": [
              "<seaborn.axisgrid.JointGrid at 0x7ff045c9e050>"
            ]
          },
          "metadata": {},
          "execution_count": 100
        },
        {
          "output_type": "display_data",
          "data": {
            "image/png": "[encoded data removed]",
            "text/plain": [
              "<Figure size 432x432 with 3 Axes>"
            ]
          },
          "metadata": {}
        }
      ],
      "source": [
        "#No5: Acousticness\n",
        "sns.jointplot(x = 'acousticness', y = 'song_popularity', data = data)"
      ]
    },
    {
      "cell_type": "code",
      "execution_count": null,
      "metadata": {
        "colab": {
          "base_uri": "https://localhost:8080/",
          "height": 459
        },
        "id": "k5Vmki4WfLRl",
        "outputId": "9a8dcf78-9fcc-487b-bafd-07f5e3b38ad1"
      },
      "outputs": [
        {
          "output_type": "execute_result",
          "data": {
            "text/plain": [
              "<seaborn.axisgrid.JointGrid at 0x7ff045be7090>"
            ]
          },
          "metadata": {},
          "execution_count": 101
        },
        {
          "output_type": "display_data",
          "data": {
            "image/png": "[encoded data removed]",
            "text/plain": [
              "<Figure size 432x432 with 3 Axes>"
            ]
          },
          "metadata": {}
        }
      ],
      "source": [
        "#Although no major effect at higher acousticness, at lower acousticness, song_popularity increases significantly with decrease in acousticness\n",
        "#In addition to this, it looks like at higher song_popularity, acousticness is having a greater impact\n",
        "#No6: Loudness\n",
        "sns.jointplot(x = 'loudness', y = 'song_popularity', data = data)"
      ]
    },
    {
      "cell_type": "code",
      "execution_count": null,
      "metadata": {
        "colab": {
          "base_uri": "https://localhost:8080/",
          "height": 313
        },
        "id": "H0GaAJaCfwD8",
        "outputId": "8f748325-f6f8-4ff0-e364-bd5f054e3a8d"
      },
      "outputs": [
        {
          "output_type": "execute_result",
          "data": {
            "text/plain": [
              "Text(0.5, 1.0, 'Acoustiness for Songs with More than 20 Popularity')"
            ]
          },
          "metadata": {},
          "execution_count": 102
        },
        {
          "output_type": "display_data",
          "data": {
            "image/png": "[encoded data removed]",
            "text/plain": [
              "<Figure size 432x288 with 1 Axes>"
            ]
          },
          "metadata": {}
        }
      ],
      "source": [
        "#song_popularity is observed to be higher at higher loudness\n",
        "#Since acousticness had a greater impact at higher song_popularity, let us validate this by checking only the entities with popularity>50\n",
        "#No7\n",
        "popular_above_20 = data[data.song_popularity > 20]\n",
        "sns.distplot(popular_above_20['acousticness'])\n",
        "plt.title('Acoustiness for Songs with More than 20 Popularity')"
      ]
    },
    {
      "cell_type": "code",
      "execution_count": null,
      "metadata": {
        "colab": {
          "base_uri": "https://localhost:8080/",
          "height": 313
        },
        "id": "x4iQeH2aiE5c",
        "outputId": "d493bc77-0941-4318-868c-2a5a143955cd"
      },
      "outputs": [
        {
          "output_type": "execute_result",
          "data": {
            "text/plain": [
              "Text(0.5, 1.0, 'Acoustiness for Songs with Less than 20 Popularity')"
            ]
          },
          "metadata": {},
          "execution_count": 103
        },
        {
          "output_type": "display_data",
          "data": {
            "image/png": "[encoded data removed]",
            "text/plain": [
              "<Figure size 432x288 with 1 Axes>"
            ]
          },
          "metadata": {}
        }
      ],
      "source": [
        "#More prominent effect - with decrease in acousticness, song popularity is increasing\n",
        "#To make sure of this, let us check the acousticness where popularity<50\n",
        "#No8\n",
        "popular_below_20 = data[data.song_popularity < 20]\n",
        "sns.distplot(popular_below_20['acousticness'])\n",
        "plt.title('Acoustiness for Songs with Less than 20 Popularity')"
      ]
    },
    {
      "cell_type": "code",
      "execution_count": null,
      "metadata": {
        "colab": {
          "base_uri": "https://localhost:8080/",
          "height": 313
        },
        "id": "buoHTLGKin0y",
        "outputId": "ffa41917-b514-495a-f2a5-361dfb923d37"
      },
      "outputs": [
        {
          "output_type": "execute_result",
          "data": {
            "text/plain": [
              "Text(0.5, 1.0, 'Loudness for Songs with More than 20 Popularity')"
            ]
          },
          "metadata": {},
          "execution_count": 104
        },
        {
          "output_type": "display_data",
          "data": {
            "image/png": "[encoded data removed]",
            "text/plain": [
              "<Figure size 432x288 with 1 Axes>"
            ]
          },
          "metadata": {}
        }
      ],
      "source": [
        "#Hence, the effect is mutual and decrease in acousticness, on the whole, is leading to increase in popularity\n",
        "#No9\n",
        "sns.distplot(popular_above_20['loudness'])\n",
        "plt.title('Loudness for Songs with More than 20 Popularity') "
      ]
    },
    {
      "cell_type": "code",
      "execution_count": null,
      "metadata": {
        "colab": {
          "base_uri": "https://localhost:8080/",
          "height": 313
        },
        "id": "Vk-K4mfoi7PP",
        "outputId": "9dbb30a5-82aa-4367-c40c-e2e9fb3fb648"
      },
      "outputs": [
        {
          "output_type": "execute_result",
          "data": {
            "text/plain": [
              "Text(0.5, 1.0, 'Loudness for Songs with Less than 20 Popularity')"
            ]
          },
          "metadata": {},
          "execution_count": 105
        },
        {
          "output_type": "display_data",
          "data": {
            "image/png": "[encoded data removed]",
            "text/plain": [
              "<Figure size 432x288 with 1 Axes>"
            ]
          },
          "metadata": {}
        }
      ],
      "source": [
        "#No10\n",
        "sns.distplot(popular_below_20['loudness'])\n",
        "plt.title('Loudness for Songs with Less than 20 Popularity')"
      ]
    },
    {
      "cell_type": "code",
      "source": [
        "data.sample(5)"
      ],
      "metadata": {
        "colab": {
          "base_uri": "https://localhost:8080/",
          "height": 357
        },
        "id": "1JtAcL1KQv3l",
        "outputId": "162277ed-0c5b-4328-af95-22c771ef4639"
      },
      "execution_count": null,
      "outputs": [
        {
          "output_type": "execute_result",
          "data": {
            "text/html": [
              "\n",
              "  <div id=\"df-239d99e2-9eeb-4900-aa3d-fdf25bd130cb\">\n",
              "    <div class=\"colab-df-container\">\n",
              "      <div>\n",
              "<style scoped>\n",
              "    .dataframe tbody tr th:only-of-type {\n",
              "        vertical-align: middle;\n",
              "    }\n",
              "\n",
              "    .dataframe tbody tr th {\n",
              "        vertical-align: top;\n",
              "    }\n",
              "\n",
              "    .dataframe thead th {\n",
              "        text-align: right;\n",
              "    }\n",
              "</style>\n",
              "<table border=\"1\" class=\"dataframe\">\n",
              "  <thead>\n",
              "    <tr style=\"text-align: right;\">\n",
              "      <th></th>\n",
              "      <th>Unnamed: 0</th>\n",
              "      <th>spotify_id</th>\n",
              "      <th>song_name</th>\n",
              "      <th>artist_name</th>\n",
              "      <th>song_popularity</th>\n",
              "      <th>album_release_date</th>\n",
              "      <th>album_release_year</th>\n",
              "      <th>album_release_month</th>\n",
              "      <th>acousticness</th>\n",
              "      <th>danceability</th>\n",
              "      <th>duration_ms</th>\n",
              "      <th>energy</th>\n",
              "      <th>instrumentalness</th>\n",
              "      <th>key</th>\n",
              "      <th>liveness</th>\n",
              "      <th>loudness</th>\n",
              "      <th>mode</th>\n",
              "      <th>song_explicit</th>\n",
              "      <th>speechiness</th>\n",
              "      <th>tempo</th>\n",
              "      <th>time_signature</th>\n",
              "      <th>total_available_markets</th>\n",
              "      <th>valence</th>\n",
              "    </tr>\n",
              "  </thead>\n",
              "  <tbody>\n",
              "    <tr>\n",
              "      <th>69116</th>\n",
              "      <td>409819</td>\n",
              "      <td>4rPw8VxacMn0gCqtRdJ9QN</td>\n",
              "      <td>Serene Danker - Live on WXPN</td>\n",
              "      <td>Flag Of Democracy</td>\n",
              "      <td>0</td>\n",
              "      <td>12-03-2013</td>\n",
              "      <td>2013.0</td>\n",
              "      <td>3.0</td>\n",
              "      <td>0.80800</td>\n",
              "      <td>0.267</td>\n",
              "      <td>120373</td>\n",
              "      <td>0.767</td>\n",
              "      <td>0.009</td>\n",
              "      <td>2</td>\n",
              "      <td>0.3180</td>\n",
              "      <td>-5.439</td>\n",
              "      <td>1</td>\n",
              "      <td>False</td>\n",
              "      <td>0.1540</td>\n",
              "      <td>109.749</td>\n",
              "      <td>4</td>\n",
              "      <td>169</td>\n",
              "      <td>0.1730</td>\n",
              "    </tr>\n",
              "    <tr>\n",
              "      <th>97153</th>\n",
              "      <td>254960</td>\n",
              "      <td>6gBpFgsNfKl3pOVzue7WrK</td>\n",
              "      <td>Let kallet bota</td>\n",
              "      <td>Labi</td>\n",
              "      <td>15</td>\n",
              "      <td>01-02-2016</td>\n",
              "      <td>2016.0</td>\n",
              "      <td>2.0</td>\n",
              "      <td>0.15800</td>\n",
              "      <td>0.811</td>\n",
              "      <td>174289</td>\n",
              "      <td>0.786</td>\n",
              "      <td>0.000</td>\n",
              "      <td>6</td>\n",
              "      <td>0.0505</td>\n",
              "      <td>-7.607</td>\n",
              "      <td>0</td>\n",
              "      <td>False</td>\n",
              "      <td>0.0853</td>\n",
              "      <td>104.986</td>\n",
              "      <td>4</td>\n",
              "      <td>170</td>\n",
              "      <td>0.9420</td>\n",
              "    </tr>\n",
              "    <tr>\n",
              "      <th>63054</th>\n",
              "      <td>403757</td>\n",
              "      <td>6I5Ryyb7F2CqEDJm7SD3yu</td>\n",
              "      <td>Evil Boy</td>\n",
              "      <td>Xkodex</td>\n",
              "      <td>0</td>\n",
              "      <td>29-08-2019</td>\n",
              "      <td>2019.0</td>\n",
              "      <td>8.0</td>\n",
              "      <td>0.00491</td>\n",
              "      <td>0.496</td>\n",
              "      <td>105900</td>\n",
              "      <td>0.996</td>\n",
              "      <td>0.924</td>\n",
              "      <td>6</td>\n",
              "      <td>0.3010</td>\n",
              "      <td>-2.808</td>\n",
              "      <td>0</td>\n",
              "      <td>False</td>\n",
              "      <td>0.1090</td>\n",
              "      <td>133.345</td>\n",
              "      <td>5</td>\n",
              "      <td>170</td>\n",
              "      <td>0.0624</td>\n",
              "    </tr>\n",
              "    <tr>\n",
              "      <th>131379</th>\n",
              "      <td>131378</td>\n",
              "      <td>0C1jPhLZZy0jX74xgOo9OX</td>\n",
              "      <td>JPP</td>\n",
              "      <td>Elder Island</td>\n",
              "      <td>32</td>\n",
              "      <td>08-02-2019</td>\n",
              "      <td>2019.0</td>\n",
              "      <td>2.0</td>\n",
              "      <td>0.39900</td>\n",
              "      <td>0.692</td>\n",
              "      <td>286745</td>\n",
              "      <td>0.433</td>\n",
              "      <td>0.462</td>\n",
              "      <td>10</td>\n",
              "      <td>0.1010</td>\n",
              "      <td>-11.547</td>\n",
              "      <td>1</td>\n",
              "      <td>False</td>\n",
              "      <td>0.0318</td>\n",
              "      <td>118.029</td>\n",
              "      <td>4</td>\n",
              "      <td>169</td>\n",
              "      <td>0.1710</td>\n",
              "    </tr>\n",
              "    <tr>\n",
              "      <th>101861</th>\n",
              "      <td>101860</td>\n",
              "      <td>5YLBkEgpKzkPJOu2JZd2Xo</td>\n",
              "      <td>Crash</td>\n",
              "      <td>Xuitcasecity</td>\n",
              "      <td>37</td>\n",
              "      <td>11-12-2020</td>\n",
              "      <td>2020.0</td>\n",
              "      <td>12.0</td>\n",
              "      <td>0.06140</td>\n",
              "      <td>0.808</td>\n",
              "      <td>132500</td>\n",
              "      <td>0.659</td>\n",
              "      <td>0.000</td>\n",
              "      <td>4</td>\n",
              "      <td>0.3500</td>\n",
              "      <td>-8.357</td>\n",
              "      <td>1</td>\n",
              "      <td>False</td>\n",
              "      <td>0.1480</td>\n",
              "      <td>90.020</td>\n",
              "      <td>4</td>\n",
              "      <td>170</td>\n",
              "      <td>0.7740</td>\n",
              "    </tr>\n",
              "  </tbody>\n",
              "</table>\n",
              "</div>\n",
              "      <button class=\"colab-df-convert\" onclick=\"convertToInteractive('df-239d99e2-9eeb-4900-aa3d-fdf25bd130cb')\"\n",
              "              title=\"Convert this dataframe to an interactive table.\"\n",
              "              style=\"display:none;\">\n",
              "        \n",
              "  <svg xmlns=\"http://www.w3.org/2000/svg\" height=\"24px\"viewBox=\"0 0 24 24\"\n",
              "       width=\"24px\">\n",
              "    <path d=\"M0 0h24v24H0V0z\" fill=\"none\"/>\n",
              "    <path d=\"M18.56 5.44l.94 2.06.94-2.06 2.06-.94-2.06-.94-.94-2.06-.94 2.06-2.06.94zm-11 1L8.5 8.5l.94-2.06 2.06-.94-2.06-.94L8.5 2.5l-.94 2.06-2.06.94zm10 10l.94 2.06.94-2.06 2.06-.94-2.06-.94-.94-2.06-.94 2.06-2.06.94z\"/><path d=\"M17.41 7.96l-1.37-1.37c-.4-.4-.92-.59-1.43-.59-.52 0-1.04.2-1.43.59L10.3 9.45l-7.72 7.72c-.78.78-.78 2.05 0 2.83L4 21.41c.39.39.9.59 1.41.59.51 0 1.02-.2 1.41-.59l7.78-7.78 2.81-2.81c.8-.78.8-2.07 0-2.86zM5.41 20L4 18.59l7.72-7.72 1.47 1.35L5.41 20z\"/>\n",
              "  </svg>\n",
              "      </button>\n",
              "      \n",
              "  <style>\n",
              "    .colab-df-container {\n",
              "      display:flex;\n",
              "      flex-wrap:wrap;\n",
              "      gap: 12px;\n",
              "    }\n",
              "\n",
              "    .colab-df-convert {\n",
              "      background-color: #E8F0FE;\n",
              "      border: none;\n",
              "      border-radius: 50%;\n",
              "      cursor: pointer;\n",
              "      display: none;\n",
              "      fill: #1967D2;\n",
              "      height: 32px;\n",
              "      padding: 0 0 0 0;\n",
              "      width: 32px;\n",
              "    }\n",
              "\n",
              "    .colab-df-convert:hover {\n",
              "      background-color: #E2EBFA;\n",
              "      box-shadow: 0px 1px 2px rgba(60, 64, 67, 0.3), 0px 1px 3px 1px rgba(60, 64, 67, 0.15);\n",
              "      fill: #174EA6;\n",
              "    }\n",
              "\n",
              "    [theme=dark] .colab-df-convert {\n",
              "      background-color: #3B4455;\n",
              "      fill: #D2E3FC;\n",
              "    }\n",
              "\n",
              "    [theme=dark] .colab-df-convert:hover {\n",
              "      background-color: #434B5C;\n",
              "      box-shadow: 0px 1px 3px 1px rgba(0, 0, 0, 0.15);\n",
              "      filter: drop-shadow(0px 1px 2px rgba(0, 0, 0, 0.3));\n",
              "      fill: #FFFFFF;\n",
              "    }\n",
              "  </style>\n",
              "\n",
              "      <script>\n",
              "        const buttonEl =\n",
              "          document.querySelector('#df-239d99e2-9eeb-4900-aa3d-fdf25bd130cb button.colab-df-convert');\n",
              "        buttonEl.style.display =\n",
              "          google.colab.kernel.accessAllowed ? 'block' : 'none';\n",
              "\n",
              "        async function convertToInteractive(key) {\n",
              "          const element = document.querySelector('#df-239d99e2-9eeb-4900-aa3d-fdf25bd130cb');\n",
              "          const dataTable =\n",
              "            await google.colab.kernel.invokeFunction('convertToInteractive',\n",
              "                                                     [key], {});\n",
              "          if (!dataTable) return;\n",
              "\n",
              "          const docLinkHtml = 'Like what you see? Visit the ' +\n",
              "            '<a target=\"_blank\" href=https://colab.research.google.com/notebooks/data_table.ipynb>data table notebook</a>'\n",
              "            + ' to learn more about interactive tables.';\n",
              "          element.innerHTML = '';\n",
              "          dataTable['output_type'] = 'display_data';\n",
              "          await google.colab.output.renderOutput(dataTable, element);\n",
              "          const docLink = document.createElement('div');\n",
              "          docLink.innerHTML = docLinkHtml;\n",
              "          element.appendChild(docLink);\n",
              "        }\n",
              "      </script>\n",
              "    </div>\n",
              "  </div>\n",
              "  "
            ],
            "text/plain": [
              "        Unnamed: 0              spotify_id  ... total_available_markets valence\n",
              "69116       409819  4rPw8VxacMn0gCqtRdJ9QN  ...                     169  0.1730\n",
              "97153       254960  6gBpFgsNfKl3pOVzue7WrK  ...                     170  0.9420\n",
              "63054       403757  6I5Ryyb7F2CqEDJm7SD3yu  ...                     170  0.0624\n",
              "131379      131378  0C1jPhLZZy0jX74xgOo9OX  ...                     169  0.1710\n",
              "101861      101860  5YLBkEgpKzkPJOu2JZd2Xo  ...                     170  0.7740\n",
              "\n",
              "[5 rows x 23 columns]"
            ]
          },
          "metadata": {},
          "execution_count": 106
        }
      ]
    },
    {
      "cell_type": "code",
      "source": [
        "#Since, there are no categorical variables, we do not need to do any of the encoding"
      ],
      "metadata": {
        "id": "qwVCT5IfSDnr"
      },
      "execution_count": null,
      "outputs": []
    },
    {
      "cell_type": "markdown",
      "source": [
        "In order to determine the best possible model, we will be using the following models for both training and testing. In the end, we will compare their respective accuracies on the basis of predictions, and the extent of fitting to determine the best possible model for this kind of data set that provides.\n",
        "\n",
        "1. LogisticRegression\n",
        "2. RandomForestClassifier\n",
        "3. KNeighborsClassifier\n",
        "4. DecisionTreeClassifier\n",
        "5. Support Vector Machines\n",
        "\n",
        "Beides, for feature selection (relevant independendt variables), we will select only based on music theory, rather than those which are based on artists' or songs' information. Selected features would be - \n",
        "\n",
        "acousticness, danceability, duration_ms, energy, instrumentalness, key, liveliness, loudness, mode, speeciness, tempo, time_signature, and valence."
      ],
      "metadata": {
        "id": "rWMmKNCeSf6n"
      }
    },
    {
      "cell_type": "code",
      "source": [
        "\n",
        "\n",
        "features = [\"acousticness\", \"danceability\", \"duration_ms\", \"energy\", \"instrumentalness\", \"key\", \"liveness\", \"loudness\", \"mode\", \"speechiness\", \"tempo\", \"time_signature\", \"valence\"]\n",
        "\n"
      ],
      "metadata": {
        "id": "pRWWmcPeaghk"
      },
      "execution_count": null,
      "outputs": []
    },
    {
      "cell_type": "markdown",
      "source": [
        "The song_popularity, which is our target variable, lies in the range of 0-38. If we train the model as per this, over-fitting would happen. Therefore, it is better to normalize the target variable at first and convert it into binary values - 0 and 1. Therefore, we would scale the song_popularity on the following basis - \n",
        "if (song_popularity<20) - Scaled Value = 0\n",
        "if (song_popularity>=20) - Scaled Value = 1"
      ],
      "metadata": {
        "id": "EJHpTLe2nMbI"
      }
    },
    {
      "cell_type": "code",
      "source": [
        "data.loc[data['song_popularity'] < 20, 'song_popularity'] = 0 \n",
        "data.loc[data['song_popularity'] >= 20, 'song_popularity'] = 1\n",
        "data.loc[data['song_popularity'] == 1]"
      ],
      "metadata": {
        "colab": {
          "base_uri": "https://localhost:8080/",
          "height": 731
        },
        "id": "ZAxg5YoHn1uD",
        "outputId": "4c59503d-1cf2-45a4-f714-13092825eb75"
      },
      "execution_count": null,
      "outputs": [
        {
          "output_type": "execute_result",
          "data": {
            "text/html": [
              "\n",
              "  <div id=\"df-7ff01c59-d386-41c3-9b75-fffabc6c1ed2\">\n",
              "    <div class=\"colab-df-container\">\n",
              "      <div>\n",
              "<style scoped>\n",
              "    .dataframe tbody tr th:only-of-type {\n",
              "        vertical-align: middle;\n",
              "    }\n",
              "\n",
              "    .dataframe tbody tr th {\n",
              "        vertical-align: top;\n",
              "    }\n",
              "\n",
              "    .dataframe thead th {\n",
              "        text-align: right;\n",
              "    }\n",
              "</style>\n",
              "<table border=\"1\" class=\"dataframe\">\n",
              "  <thead>\n",
              "    <tr style=\"text-align: right;\">\n",
              "      <th></th>\n",
              "      <th>Unnamed: 0</th>\n",
              "      <th>spotify_id</th>\n",
              "      <th>song_name</th>\n",
              "      <th>artist_name</th>\n",
              "      <th>song_popularity</th>\n",
              "      <th>album_release_date</th>\n",
              "      <th>album_release_year</th>\n",
              "      <th>album_release_month</th>\n",
              "      <th>acousticness</th>\n",
              "      <th>danceability</th>\n",
              "      <th>duration_ms</th>\n",
              "      <th>energy</th>\n",
              "      <th>instrumentalness</th>\n",
              "      <th>key</th>\n",
              "      <th>liveness</th>\n",
              "      <th>loudness</th>\n",
              "      <th>mode</th>\n",
              "      <th>song_explicit</th>\n",
              "      <th>speechiness</th>\n",
              "      <th>tempo</th>\n",
              "      <th>time_signature</th>\n",
              "      <th>total_available_markets</th>\n",
              "      <th>valence</th>\n",
              "    </tr>\n",
              "  </thead>\n",
              "  <tbody>\n",
              "    <tr>\n",
              "      <th>98816</th>\n",
              "      <td>98815</td>\n",
              "      <td>2vHUtPCxmosrKXxa1Mlana</td>\n",
              "      <td>Anyplace, Anywhere, Anytime</td>\n",
              "      <td>Symphonity</td>\n",
              "      <td>1</td>\n",
              "      <td>30-09-2016</td>\n",
              "      <td>2016.0</td>\n",
              "      <td>9.0</td>\n",
              "      <td>0.00121</td>\n",
              "      <td>0.401</td>\n",
              "      <td>244800</td>\n",
              "      <td>0.944</td>\n",
              "      <td>0.000002</td>\n",
              "      <td>6</td>\n",
              "      <td>0.0758</td>\n",
              "      <td>-3.916</td>\n",
              "      <td>1</td>\n",
              "      <td>False</td>\n",
              "      <td>0.0882</td>\n",
              "      <td>169.956</td>\n",
              "      <td>4</td>\n",
              "      <td>169</td>\n",
              "      <td>0.4180</td>\n",
              "    </tr>\n",
              "    <tr>\n",
              "      <th>98817</th>\n",
              "      <td>98816</td>\n",
              "      <td>6S1PTPsFLb1slNd9jJVCfG</td>\n",
              "      <td>Falle</td>\n",
              "      <td>Yungmon</td>\n",
              "      <td>1</td>\n",
              "      <td>08-05-2020</td>\n",
              "      <td>2020.0</td>\n",
              "      <td>5.0</td>\n",
              "      <td>0.04980</td>\n",
              "      <td>0.613</td>\n",
              "      <td>137716</td>\n",
              "      <td>0.412</td>\n",
              "      <td>0.000000</td>\n",
              "      <td>6</td>\n",
              "      <td>0.1310</td>\n",
              "      <td>-13.880</td>\n",
              "      <td>0</td>\n",
              "      <td>True</td>\n",
              "      <td>0.0810</td>\n",
              "      <td>169.943</td>\n",
              "      <td>4</td>\n",
              "      <td>170</td>\n",
              "      <td>0.3460</td>\n",
              "    </tr>\n",
              "    <tr>\n",
              "      <th>98818</th>\n",
              "      <td>98817</td>\n",
              "      <td>7r4eHmVPgMaNgd9AHQRZdq</td>\n",
              "      <td>Tıkla</td>\n",
              "      <td>İsmail YK</td>\n",
              "      <td>1</td>\n",
              "      <td>27-04-2004</td>\n",
              "      <td>2004.0</td>\n",
              "      <td>4.0</td>\n",
              "      <td>0.18000</td>\n",
              "      <td>0.789</td>\n",
              "      <td>284667</td>\n",
              "      <td>0.815</td>\n",
              "      <td>0.000002</td>\n",
              "      <td>8</td>\n",
              "      <td>0.1340</td>\n",
              "      <td>-7.946</td>\n",
              "      <td>0</td>\n",
              "      <td>False</td>\n",
              "      <td>0.0603</td>\n",
              "      <td>100.027</td>\n",
              "      <td>4</td>\n",
              "      <td>170</td>\n",
              "      <td>0.8950</td>\n",
              "    </tr>\n",
              "    <tr>\n",
              "      <th>98819</th>\n",
              "      <td>98818</td>\n",
              "      <td>3NBckiwR0FKC6zK59EWAFe</td>\n",
              "      <td>These Days - Solo Piano Version</td>\n",
              "      <td>Alexis Ffrench</td>\n",
              "      <td>1</td>\n",
              "      <td>04-09-2020</td>\n",
              "      <td>2020.0</td>\n",
              "      <td>9.0</td>\n",
              "      <td>0.98900</td>\n",
              "      <td>0.536</td>\n",
              "      <td>168914</td>\n",
              "      <td>0.298</td>\n",
              "      <td>0.871000</td>\n",
              "      <td>9</td>\n",
              "      <td>0.1210</td>\n",
              "      <td>-19.303</td>\n",
              "      <td>0</td>\n",
              "      <td>False</td>\n",
              "      <td>0.0414</td>\n",
              "      <td>103.006</td>\n",
              "      <td>4</td>\n",
              "      <td>170</td>\n",
              "      <td>0.3930</td>\n",
              "    </tr>\n",
              "    <tr>\n",
              "      <th>98820</th>\n",
              "      <td>98819</td>\n",
              "      <td>3QT8S7ZBD5kfQX3aJ7Nb5Y</td>\n",
              "      <td>Forever Song</td>\n",
              "      <td>Alexis Ffrench</td>\n",
              "      <td>1</td>\n",
              "      <td>20-03-2020</td>\n",
              "      <td>2020.0</td>\n",
              "      <td>3.0</td>\n",
              "      <td>0.98700</td>\n",
              "      <td>0.264</td>\n",
              "      <td>208023</td>\n",
              "      <td>0.147</td>\n",
              "      <td>0.886000</td>\n",
              "      <td>2</td>\n",
              "      <td>0.1000</td>\n",
              "      <td>-16.366</td>\n",
              "      <td>1</td>\n",
              "      <td>False</td>\n",
              "      <td>0.0386</td>\n",
              "      <td>77.914</td>\n",
              "      <td>4</td>\n",
              "      <td>170</td>\n",
              "      <td>0.0779</td>\n",
              "    </tr>\n",
              "    <tr>\n",
              "      <th>...</th>\n",
              "      <td>...</td>\n",
              "      <td>...</td>\n",
              "      <td>...</td>\n",
              "      <td>...</td>\n",
              "      <td>...</td>\n",
              "      <td>...</td>\n",
              "      <td>...</td>\n",
              "      <td>...</td>\n",
              "      <td>...</td>\n",
              "      <td>...</td>\n",
              "      <td>...</td>\n",
              "      <td>...</td>\n",
              "      <td>...</td>\n",
              "      <td>...</td>\n",
              "      <td>...</td>\n",
              "      <td>...</td>\n",
              "      <td>...</td>\n",
              "      <td>...</td>\n",
              "      <td>...</td>\n",
              "      <td>...</td>\n",
              "      <td>...</td>\n",
              "      <td>...</td>\n",
              "      <td>...</td>\n",
              "    </tr>\n",
              "    <tr>\n",
              "      <th>157803</th>\n",
              "      <td>157802</td>\n",
              "      <td>7sEZdh8W3r7ttNivxifenR</td>\n",
              "      <td>For You</td>\n",
              "      <td>Morro</td>\n",
              "      <td>1</td>\n",
              "      <td>01-11-2017</td>\n",
              "      <td>2017.0</td>\n",
              "      <td>11.0</td>\n",
              "      <td>0.50800</td>\n",
              "      <td>0.793</td>\n",
              "      <td>185000</td>\n",
              "      <td>0.692</td>\n",
              "      <td>0.219000</td>\n",
              "      <td>11</td>\n",
              "      <td>0.3410</td>\n",
              "      <td>-5.242</td>\n",
              "      <td>0</td>\n",
              "      <td>False</td>\n",
              "      <td>0.0409</td>\n",
              "      <td>120.017</td>\n",
              "      <td>4</td>\n",
              "      <td>170</td>\n",
              "      <td>0.2480</td>\n",
              "    </tr>\n",
              "    <tr>\n",
              "      <th>157804</th>\n",
              "      <td>157803</td>\n",
              "      <td>0q3po3WGRioPdjAFdB393e</td>\n",
              "      <td>Mi Tierra Es León, Gto</td>\n",
              "      <td>Gerardo Reyes</td>\n",
              "      <td>1</td>\n",
              "      <td>21-03-2007</td>\n",
              "      <td>2007.0</td>\n",
              "      <td>3.0</td>\n",
              "      <td>0.66300</td>\n",
              "      <td>0.386</td>\n",
              "      <td>161960</td>\n",
              "      <td>0.376</td>\n",
              "      <td>0.000000</td>\n",
              "      <td>10</td>\n",
              "      <td>0.2380</td>\n",
              "      <td>-9.895</td>\n",
              "      <td>1</td>\n",
              "      <td>False</td>\n",
              "      <td>0.0528</td>\n",
              "      <td>171.917</td>\n",
              "      <td>3</td>\n",
              "      <td>170</td>\n",
              "      <td>0.8800</td>\n",
              "    </tr>\n",
              "    <tr>\n",
              "      <th>157805</th>\n",
              "      <td>157804</td>\n",
              "      <td>4L2DL42jfs1pPxastWZ0lU</td>\n",
              "      <td>The Garden - Demo</td>\n",
              "      <td>PJ Harvey</td>\n",
              "      <td>1</td>\n",
              "      <td>29-01-2021</td>\n",
              "      <td>2021.0</td>\n",
              "      <td>1.0</td>\n",
              "      <td>0.64400</td>\n",
              "      <td>0.664</td>\n",
              "      <td>273293</td>\n",
              "      <td>0.236</td>\n",
              "      <td>0.783000</td>\n",
              "      <td>7</td>\n",
              "      <td>0.0650</td>\n",
              "      <td>-24.437</td>\n",
              "      <td>0</td>\n",
              "      <td>False</td>\n",
              "      <td>0.0448</td>\n",
              "      <td>145.638</td>\n",
              "      <td>4</td>\n",
              "      <td>170</td>\n",
              "      <td>0.3320</td>\n",
              "    </tr>\n",
              "    <tr>\n",
              "      <th>157806</th>\n",
              "      <td>157805</td>\n",
              "      <td>0mUd52uVlCBWVYgHxoJnlm</td>\n",
              "      <td>PJ</td>\n",
              "      <td>Jesse Woods</td>\n",
              "      <td>1</td>\n",
              "      <td>01-10-2009</td>\n",
              "      <td>2009.0</td>\n",
              "      <td>10.0</td>\n",
              "      <td>0.66800</td>\n",
              "      <td>0.649</td>\n",
              "      <td>150893</td>\n",
              "      <td>0.428</td>\n",
              "      <td>0.000007</td>\n",
              "      <td>6</td>\n",
              "      <td>0.1220</td>\n",
              "      <td>-8.300</td>\n",
              "      <td>1</td>\n",
              "      <td>False</td>\n",
              "      <td>0.0278</td>\n",
              "      <td>134.259</td>\n",
              "      <td>4</td>\n",
              "      <td>169</td>\n",
              "      <td>0.3570</td>\n",
              "    </tr>\n",
              "    <tr>\n",
              "      <th>157807</th>\n",
              "      <td>157806</td>\n",
              "      <td>4PWQrs77pPFu15zi9aNanc</td>\n",
              "      <td>Ta Mavra Matia Sou - Greek Version</td>\n",
              "      <td>Zafeiris Melas</td>\n",
              "      <td>1</td>\n",
              "      <td>2015</td>\n",
              "      <td>2015.0</td>\n",
              "      <td>NaN</td>\n",
              "      <td>0.58000</td>\n",
              "      <td>0.570</td>\n",
              "      <td>248587</td>\n",
              "      <td>0.733</td>\n",
              "      <td>0.000000</td>\n",
              "      <td>7</td>\n",
              "      <td>0.1180</td>\n",
              "      <td>-4.990</td>\n",
              "      <td>0</td>\n",
              "      <td>False</td>\n",
              "      <td>0.0373</td>\n",
              "      <td>115.153</td>\n",
              "      <td>4</td>\n",
              "      <td>169</td>\n",
              "      <td>0.6120</td>\n",
              "    </tr>\n",
              "  </tbody>\n",
              "</table>\n",
              "<p>58992 rows × 23 columns</p>\n",
              "</div>\n",
              "      <button class=\"colab-df-convert\" onclick=\"convertToInteractive('df-7ff01c59-d386-41c3-9b75-fffabc6c1ed2')\"\n",
              "              title=\"Convert this dataframe to an interactive table.\"\n",
              "              style=\"display:none;\">\n",
              "        \n",
              "  <svg xmlns=\"http://www.w3.org/2000/svg\" height=\"24px\"viewBox=\"0 0 24 24\"\n",
              "       width=\"24px\">\n",
              "    <path d=\"M0 0h24v24H0V0z\" fill=\"none\"/>\n",
              "    <path d=\"M18.56 5.44l.94 2.06.94-2.06 2.06-.94-2.06-.94-.94-2.06-.94 2.06-2.06.94zm-11 1L8.5 8.5l.94-2.06 2.06-.94-2.06-.94L8.5 2.5l-.94 2.06-2.06.94zm10 10l.94 2.06.94-2.06 2.06-.94-2.06-.94-.94-2.06-.94 2.06-2.06.94z\"/><path d=\"M17.41 7.96l-1.37-1.37c-.4-.4-.92-.59-1.43-.59-.52 0-1.04.2-1.43.59L10.3 9.45l-7.72 7.72c-.78.78-.78 2.05 0 2.83L4 21.41c.39.39.9.59 1.41.59.51 0 1.02-.2 1.41-.59l7.78-7.78 2.81-2.81c.8-.78.8-2.07 0-2.86zM5.41 20L4 18.59l7.72-7.72 1.47 1.35L5.41 20z\"/>\n",
              "  </svg>\n",
              "      </button>\n",
              "      \n",
              "  <style>\n",
              "    .colab-df-container {\n",
              "      display:flex;\n",
              "      flex-wrap:wrap;\n",
              "      gap: 12px;\n",
              "    }\n",
              "\n",
              "    .colab-df-convert {\n",
              "      background-color: #E8F0FE;\n",
              "      border: none;\n",
              "      border-radius: 50%;\n",
              "      cursor: pointer;\n",
              "      display: none;\n",
              "      fill: #1967D2;\n",
              "      height: 32px;\n",
              "      padding: 0 0 0 0;\n",
              "      width: 32px;\n",
              "    }\n",
              "\n",
              "    .colab-df-convert:hover {\n",
              "      background-color: #E2EBFA;\n",
              "      box-shadow: 0px 1px 2px rgba(60, 64, 67, 0.3), 0px 1px 3px 1px rgba(60, 64, 67, 0.15);\n",
              "      fill: #174EA6;\n",
              "    }\n",
              "\n",
              "    [theme=dark] .colab-df-convert {\n",
              "      background-color: #3B4455;\n",
              "      fill: #D2E3FC;\n",
              "    }\n",
              "\n",
              "    [theme=dark] .colab-df-convert:hover {\n",
              "      background-color: #434B5C;\n",
              "      box-shadow: 0px 1px 3px 1px rgba(0, 0, 0, 0.15);\n",
              "      filter: drop-shadow(0px 1px 2px rgba(0, 0, 0, 0.3));\n",
              "      fill: #FFFFFF;\n",
              "    }\n",
              "  </style>\n",
              "\n",
              "      <script>\n",
              "        const buttonEl =\n",
              "          document.querySelector('#df-7ff01c59-d386-41c3-9b75-fffabc6c1ed2 button.colab-df-convert');\n",
              "        buttonEl.style.display =\n",
              "          google.colab.kernel.accessAllowed ? 'block' : 'none';\n",
              "\n",
              "        async function convertToInteractive(key) {\n",
              "          const element = document.querySelector('#df-7ff01c59-d386-41c3-9b75-fffabc6c1ed2');\n",
              "          const dataTable =\n",
              "            await google.colab.kernel.invokeFunction('convertToInteractive',\n",
              "                                                     [key], {});\n",
              "          if (!dataTable) return;\n",
              "\n",
              "          const docLinkHtml = 'Like what you see? Visit the ' +\n",
              "            '<a target=\"_blank\" href=https://colab.research.google.com/notebooks/data_table.ipynb>data table notebook</a>'\n",
              "            + ' to learn more about interactive tables.';\n",
              "          element.innerHTML = '';\n",
              "          dataTable['output_type'] = 'display_data';\n",
              "          await google.colab.output.renderOutput(dataTable, element);\n",
              "          const docLink = document.createElement('div');\n",
              "          docLink.innerHTML = docLinkHtml;\n",
              "          element.appendChild(docLink);\n",
              "        }\n",
              "      </script>\n",
              "    </div>\n",
              "  </div>\n",
              "  "
            ],
            "text/plain": [
              "        Unnamed: 0              spotify_id  ... total_available_markets valence\n",
              "98816        98815  2vHUtPCxmosrKXxa1Mlana  ...                     169  0.4180\n",
              "98817        98816  6S1PTPsFLb1slNd9jJVCfG  ...                     170  0.3460\n",
              "98818        98817  7r4eHmVPgMaNgd9AHQRZdq  ...                     170  0.8950\n",
              "98819        98818  3NBckiwR0FKC6zK59EWAFe  ...                     170  0.3930\n",
              "98820        98819  3QT8S7ZBD5kfQX3aJ7Nb5Y  ...                     170  0.0779\n",
              "...            ...                     ...  ...                     ...     ...\n",
              "157803      157802  7sEZdh8W3r7ttNivxifenR  ...                     170  0.2480\n",
              "157804      157803  0q3po3WGRioPdjAFdB393e  ...                     170  0.8800\n",
              "157805      157804  4L2DL42jfs1pPxastWZ0lU  ...                     170  0.3320\n",
              "157806      157805  0mUd52uVlCBWVYgHxoJnlm  ...                     169  0.3570\n",
              "157807      157806  4PWQrs77pPFu15zi9aNanc  ...                     169  0.6120\n",
              "\n",
              "[58992 rows x 23 columns]"
            ]
          },
          "metadata": {},
          "execution_count": 108
        }
      ]
    },
    {
      "cell_type": "markdown",
      "source": [
        "We will be keeping 80% of the dataset as training data and rest 20% for testing."
      ],
      "metadata": {
        "id": "Syu5ZWH9VP0w"
      }
    },
    {
      "cell_type": "code",
      "source": [
        "training = data.sample(frac = 0.8,random_state = 420)\n",
        "X_train = training[features]\n",
        "y_train = training['song_popularity']\n",
        "X_test = data.drop(training.index)[features]"
      ],
      "metadata": {
        "id": "r2u9-ly8VMQa"
      },
      "execution_count": null,
      "outputs": []
    },
    {
      "cell_type": "code",
      "source": [
        "from sklearn.linear_model import LogisticRegression\n",
        "from sklearn.ensemble import RandomForestClassifier\n",
        "from sklearn.neighbors import KNeighborsClassifier\n",
        "from sklearn.tree import DecisionTreeClassifier\n",
        "from sklearn.svm import SVC, LinearSVC\n",
        "from xgboost import XGBClassifier\n",
        "\n",
        "from sklearn.metrics import make_scorer, accuracy_score, roc_auc_score \n",
        "from sklearn.model_selection import GridSearchCV\n",
        "from sklearn.model_selection import train_test_split"
      ],
      "metadata": {
        "id": "asHGi0eDWDgy"
      },
      "execution_count": null,
      "outputs": []
    },
    {
      "cell_type": "markdown",
      "source": [
        "We are using train test split to segment another validation dataset."
      ],
      "metadata": {
        "id": "-G2lMVkKVsfY"
      }
    },
    {
      "cell_type": "code",
      "source": [
        "X_train, X_valid, y_train, y_valid = train_test_split(X_train, y_train, test_size = 0.2, random_state = 420)"
      ],
      "metadata": {
        "id": "QTEe1lw6VnN8"
      },
      "execution_count": null,
      "outputs": []
    },
    {
      "cell_type": "markdown",
      "source": [
        "We will be running the models on two types of dataset. One would be trained and tested with the normal values of song_popularity as provided, which might result in over-fitting. Another would be by providing binary values to song_popularity."
      ],
      "metadata": {
        "id": "edfXF-9Ncfn0"
      }
    },
    {
      "cell_type": "markdown",
      "source": [
        "**1. Logistic Regression**"
      ],
      "metadata": {
        "id": "WwnpvG2aWJrs"
      }
    },
    {
      "cell_type": "code",
      "source": [
        "Log_reg_Model = LogisticRegression()\n",
        "Log_reg_Model.fit(X_train, y_train)\n",
        "LR_Predict = Log_reg_Model.predict(X_valid)\n",
        "LR_Accuracy = accuracy_score(y_valid, LR_Predict)\n",
        "print(\"Accuracy: \" + str(LR_Accuracy))\n"
      ],
      "metadata": {
        "colab": {
          "base_uri": "https://localhost:8080/"
        },
        "id": "REBZd8I6WGW0",
        "outputId": "7fdfd460-9f5d-4e1e-946b-ddcf2830fa68"
      },
      "execution_count": null,
      "outputs": [
        {
          "output_type": "stream",
          "name": "stdout",
          "text": [
            "Accuracy: 0.6265742574257426\n"
          ]
        }
      ]
    },
    {
      "cell_type": "markdown",
      "source": [
        "**2. Random Forest Classifier**"
      ],
      "metadata": {
        "id": "mX8M4wSoXz7u"
      }
    },
    {
      "cell_type": "code",
      "source": [
        "RandomFC_Model = RandomForestClassifier()\n",
        "RandomFC_Model.fit(X_train, y_train)\n",
        "RFC_Predict = RandomFC_Model.predict(X_valid)\n",
        "RFC_Accuracy = accuracy_score(y_valid, RFC_Predict)\n",
        "print(\"Accuracy: \" + str(RFC_Accuracy))\n"
      ],
      "metadata": {
        "colab": {
          "base_uri": "https://localhost:8080/"
        },
        "id": "4SzEf-1qX69H",
        "outputId": "5a3fa874-e7da-4282-f1ac-545242724ec9"
      },
      "execution_count": null,
      "outputs": [
        {
          "output_type": "stream",
          "name": "stdout",
          "text": [
            "Accuracy: 0.6811485148514852\n"
          ]
        }
      ]
    },
    {
      "cell_type": "markdown",
      "source": [
        "**3. K-Nearest Neighbors Classifier**"
      ],
      "metadata": {
        "id": "Dxnp22B3ZQ8N"
      }
    },
    {
      "cell_type": "code",
      "source": [
        "KNN_Model = KNeighborsClassifier()\n",
        "KNN_Model.fit(X_train, y_train)\n",
        "KNN_Predict = KNN_Model.predict(X_valid)\n",
        "KNN_Accuracy = accuracy_score(y_valid, KNN_Predict)\n",
        "print(\"Accuracy: \" + str(KNN_Accuracy))"
      ],
      "metadata": {
        "colab": {
          "base_uri": "https://localhost:8080/"
        },
        "id": "mizdXMm-ZWvf",
        "outputId": "697c5883-c67c-4706-873b-e8fadf220715"
      },
      "execution_count": null,
      "outputs": [
        {
          "output_type": "stream",
          "name": "stdout",
          "text": [
            "Accuracy: 0.5872475247524752\n"
          ]
        }
      ]
    },
    {
      "cell_type": "markdown",
      "source": [
        "**4. Decision Tree Classifier**"
      ],
      "metadata": {
        "id": "SuT8tFeUZfZ-"
      }
    },
    {
      "cell_type": "code",
      "source": [
        "DT_Model = DecisionTreeClassifier()\n",
        "DT_Model.fit(X_train, y_train)\n",
        "DT_Predict = DT_Model.predict(X_valid)\n",
        "DT_Accuracy = accuracy_score(y_valid, DT_Predict)\n",
        "print(\"Accuracy: \" + str(DT_Accuracy))"
      ],
      "metadata": {
        "colab": {
          "base_uri": "https://localhost:8080/"
        },
        "id": "bs7GvOBRZi1y",
        "outputId": "471d7a78-58a1-48d8-c38b-0002c38d95b8"
      },
      "execution_count": null,
      "outputs": [
        {
          "output_type": "stream",
          "name": "stdout",
          "text": [
            "Accuracy: 0.6036039603960396\n"
          ]
        }
      ]
    },
    {
      "cell_type": "markdown",
      "source": [
        "**5. Linear Support Vector Machines**"
      ],
      "metadata": {
        "id": "dfW2bZDpaR_Z"
      }
    },
    {
      "cell_type": "code",
      "source": [
        "training_LSVC = training.sample(10000)\n",
        "X_train_LSVC = training_LSVC[features]\n",
        "y_train_LSVC = training_LSVC['song_popularity']\n",
        "X_test_LSVC = data.drop(training_LSVC.index)[features]\n",
        "X_train_LSVC, X_valid_LSVC, y_train_LSVC, y_valid_LSVC = train_test_split(\n",
        "    X_train_LSVC, y_train_LSVC, test_size = 0.2, random_state = 420)"
      ],
      "metadata": {
        "id": "h-fMTD6baVdR"
      },
      "execution_count": null,
      "outputs": []
    },
    {
      "cell_type": "code",
      "source": [
        "LSVC_Model = DecisionTreeClassifier()\n",
        "LSVC_Model.fit(X_train_LSVC, y_train_LSVC)\n",
        "LSVC_Predict = LSVC_Model.predict(X_valid_LSVC)\n",
        "LSVC_Accuracy = accuracy_score(y_valid_LSVC, LSVC_Predict)\n",
        "print(\"Accuracy: \" + str(LSVC_Accuracy))"
      ],
      "metadata": {
        "colab": {
          "base_uri": "https://localhost:8080/"
        },
        "id": "z3dOD3_6aXuu",
        "outputId": "e1128b5f-a5db-40c8-c028-aaf7ee181e98"
      },
      "execution_count": null,
      "outputs": [
        {
          "output_type": "stream",
          "name": "stdout",
          "text": [
            "Accuracy: 0.5715\n"
          ]
        }
      ]
    },
    {
      "cell_type": "markdown",
      "source": [
        "We can observe that Random Forest Regression modelling is best fitted with highest accuracy (68.11%) in our scenario. Therefore, in order to predict our target regressor, that is song_popularity, Random Forest Regression is the best available model.\n",
        "Thank you!"
      ],
      "metadata": {
        "id": "FhpCaAebc2Hr"
      }
    },
    {
      "cell_type": "code",
      "source": [
        ""
      ],
      "metadata": {
        "id": "LRnfb1AFpDpD"
      },
      "execution_count": null,
      "outputs": []
    }
  ],
  "metadata": {
    "colab": {
      "name": "EXL_assignment_SarvagyaSaxena",
      "provenance": [],
      "collapsed_sections": [],
      "authorship_tag": "ABX9TyPX35ecNNk1A0+7sbjyoBPq",
      "include_colab_link": true
    },
    "kernelspec": {
      "display_name": "Python 3",
      "name": "python3"
    },
    "language_info": {
      "name": "python"
    }
  },
  "nbformat": 4,
  "nbformat_minor": 0
}
